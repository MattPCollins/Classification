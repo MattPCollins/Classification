{
 "cells": [
  {
   "cell_type": "code",
   "execution_count": 26,
   "id": "610f236a",
   "metadata": {},
   "outputs": [],
   "source": [
    "import pandas as pd\n",
    "from difflib import SequenceMatcher\n",
    "import itertools\n",
    "import re\n",
    "import plotly.express as px\n",
    "pd.options.mode.chained_assignment = None  # default='warn'"
   ]
  },
  {
   "cell_type": "code",
   "execution_count": 2,
   "id": "a11f9317",
   "metadata": {},
   "outputs": [],
   "source": [
    "columns = ['ticket_no','title','type','configuration','level']\n",
    "\n",
    "data = [\n",
    "  [1, \"Server: ctil-sqlssis02.ctil.local Disk Free Space: F:\", \"Space Issue\",\"ctil-sqlssis02.ctil.local\",\"parent\"], \n",
    "  [2, \"Server: UKCPPBNODE4.rws.com Disk Free Space: G:\", \"Space Issue\",\"cUKCPPBNODE4.rws.com\",\"parent\"], \n",
    "  [3, \"PagerDuty: Server:  AlwaysOn replica is not in the PRIMARY or SECONDARY role - custom\", \"\",\"LDSQLMID01.rimes.dir\",\"child\"], \n",
    "  [4, \"PagerDuty: Server:  AlwaysOn replica is not in the PRIMARY or SECONDARY role - custom\", \"HA-DR\",\"UKCPPBNODE4.rws.com\",\"parent\"], \n",
    "  [5, \"PagerDuty: Server:  AlwaysOn replica is not in the PRIMARY or SECONDARY role - custom\", \"HA-DR\",\"ctil-sqlssis01.ctil.local\",\"parent\"], \n",
    "  [6, \"RCA: BSS-DES-SQL07\\BSSERP  Availability Group [AlwaysOn replica is not in the PRIMARY or SECONDARY]\", \"HA-DR\",\"BSS-DES-SQL07\\BSSERP\",\"parent\"], \n",
    "  [7, \"PagerDuty: Server:  AlwaysOn replica is not in the PRIMARY or SECONDARY role - custom\", \"HA-DR\",\"\",\"child\"], \n",
    "  [8, \"PagerDuty: Server:  AlwaysOn replica is not in the PRIMARY or SECONDARY role - custom\", \"HA-DR\",\"ctil-sqlssis02.ctil.local\",\"parent\"], \n",
    "  [9, \"PagerDuty: Server: BSS-DEP-SQL07\\BSSERP AlwaysOn replica is not in the PRIMARY or SECONDARY role - custom\", \"HA-DR\",\"\",\"parent\"], \n",
    "  [10, \"Server: LDSQLMID01.rimes.dir Disk Free Space: F:\", \"Space Issue\",\"LDSQLMID01.rimes.dir\",\"parent\"],   \n",
    "  [11, \"Server: TGSQLCLUST02.trakglobal.local Disk Free Space: Cluster Disk 16_K:\", \"Space Issue\",\"TGSQLCLUST02.trakglobal.local\",\"parent\"], \n",
    "  [12, \"Server: SOUSQ01L.ITSLAW.CO.UK Disk Free Space: G:\", \"Space Issue\",\"SOUSQ01L.ITSLAW.CO.UK\",\"parent\"], \n",
    "  [13, \"RCA - AlwaysOn replica is not in the PRIMARY or SECONDARY role on  PUBLICSQLF\", \"Service Failure\",\"\",\"parent\"], \n",
    "  [14, \"PagerDuty: Server:  AlwaysOn replica is not in the PRIMARY or SECONDARY role - custom\", \"Service Failure\",\"\",\"parent\"], \n",
    "  [15, \"PagerDuty: Server:  AlwaysOn replica is not in the PRIMARY or SECONDARY role - custom\", \"HA-DR\",\"\",\"child\"], \n",
    "  [16, \"PagerDuty: Server: LDSQLMID01.rimes.dir AlwaysOn replica is not in the PRIMARY or SECONDARY role - custom\", \"\",\"LDSQLMID01.rimes.dir\",\"parent\"], \n",
    "  [17, \"PagerDuty: Server:  AlwaysOn replica is not in the PRIMARY or SECONDARY role - custom\", \"HA-DR\",\"\",\"parent\"], \n",
    "  [18, \"PagerDuty: Server: UKCPPBNODE4.rws.com AlwaysOn replica is not in the PRIMARY or SECONDARY role - custom\", \"HA-DR\",\"UKCPPBNODE4.rws.com \",\"parent\"], \n",
    "]"
   ]
  },
  {
   "cell_type": "code",
   "execution_count": 3,
   "id": "7ea2a3df",
   "metadata": {},
   "outputs": [
    {
     "data": {
      "text/html": [
       "<div>\n",
       "<style scoped>\n",
       "    .dataframe tbody tr th:only-of-type {\n",
       "        vertical-align: middle;\n",
       "    }\n",
       "\n",
       "    .dataframe tbody tr th {\n",
       "        vertical-align: top;\n",
       "    }\n",
       "\n",
       "    .dataframe thead th {\n",
       "        text-align: right;\n",
       "    }\n",
       "</style>\n",
       "<table border=\"1\" class=\"dataframe\">\n",
       "  <thead>\n",
       "    <tr style=\"text-align: right;\">\n",
       "      <th></th>\n",
       "      <th>title</th>\n",
       "      <th>type</th>\n",
       "      <th>configuration</th>\n",
       "      <th>level</th>\n",
       "    </tr>\n",
       "    <tr>\n",
       "      <th>ticket_no</th>\n",
       "      <th></th>\n",
       "      <th></th>\n",
       "      <th></th>\n",
       "      <th></th>\n",
       "    </tr>\n",
       "  </thead>\n",
       "  <tbody>\n",
       "    <tr>\n",
       "      <th>1</th>\n",
       "      <td>server: ctil-sqlssis02.ctil.local disk free sp...</td>\n",
       "      <td>Space Issue</td>\n",
       "      <td>ctil-sqlssis02.ctil.local</td>\n",
       "      <td>parent</td>\n",
       "    </tr>\n",
       "    <tr>\n",
       "      <th>2</th>\n",
       "      <td>server: ukcppbnode4.rws.com disk free space: g:</td>\n",
       "      <td>Space Issue</td>\n",
       "      <td>cUKCPPBNODE4.rws.com</td>\n",
       "      <td>parent</td>\n",
       "    </tr>\n",
       "    <tr>\n",
       "      <th>3</th>\n",
       "      <td>pagerduty: server:  alwayson replica is not in...</td>\n",
       "      <td></td>\n",
       "      <td>LDSQLMID01.rimes.dir</td>\n",
       "      <td>child</td>\n",
       "    </tr>\n",
       "    <tr>\n",
       "      <th>4</th>\n",
       "      <td>pagerduty: server:  alwayson replica is not in...</td>\n",
       "      <td>HA-DR</td>\n",
       "      <td>UKCPPBNODE4.rws.com</td>\n",
       "      <td>parent</td>\n",
       "    </tr>\n",
       "    <tr>\n",
       "      <th>5</th>\n",
       "      <td>pagerduty: server:  alwayson replica is not in...</td>\n",
       "      <td>HA-DR</td>\n",
       "      <td>ctil-sqlssis01.ctil.local</td>\n",
       "      <td>parent</td>\n",
       "    </tr>\n",
       "    <tr>\n",
       "      <th>6</th>\n",
       "      <td>rca: bss-des-sql07\\bsserp  availability group ...</td>\n",
       "      <td>HA-DR</td>\n",
       "      <td>BSS-DES-SQL07\\BSSERP</td>\n",
       "      <td>parent</td>\n",
       "    </tr>\n",
       "    <tr>\n",
       "      <th>7</th>\n",
       "      <td>pagerduty: server:  alwayson replica is not in...</td>\n",
       "      <td>HA-DR</td>\n",
       "      <td></td>\n",
       "      <td>child</td>\n",
       "    </tr>\n",
       "    <tr>\n",
       "      <th>8</th>\n",
       "      <td>pagerduty: server:  alwayson replica is not in...</td>\n",
       "      <td>HA-DR</td>\n",
       "      <td>ctil-sqlssis02.ctil.local</td>\n",
       "      <td>parent</td>\n",
       "    </tr>\n",
       "    <tr>\n",
       "      <th>9</th>\n",
       "      <td>pagerduty: server: bss-dep-sql07\\bsserp always...</td>\n",
       "      <td>HA-DR</td>\n",
       "      <td></td>\n",
       "      <td>parent</td>\n",
       "    </tr>\n",
       "    <tr>\n",
       "      <th>10</th>\n",
       "      <td>server: ldsqlmid01.rimes.dir disk free space: f:</td>\n",
       "      <td>Space Issue</td>\n",
       "      <td>LDSQLMID01.rimes.dir</td>\n",
       "      <td>parent</td>\n",
       "    </tr>\n",
       "    <tr>\n",
       "      <th>11</th>\n",
       "      <td>server: tgsqlclust02.trakglobal.local disk fre...</td>\n",
       "      <td>Space Issue</td>\n",
       "      <td>TGSQLCLUST02.trakglobal.local</td>\n",
       "      <td>parent</td>\n",
       "    </tr>\n",
       "    <tr>\n",
       "      <th>12</th>\n",
       "      <td>server: sousq01l.itslaw.co.uk disk free space: g:</td>\n",
       "      <td>Space Issue</td>\n",
       "      <td>SOUSQ01L.ITSLAW.CO.UK</td>\n",
       "      <td>parent</td>\n",
       "    </tr>\n",
       "    <tr>\n",
       "      <th>13</th>\n",
       "      <td>rca - alwayson replica is not in the primary o...</td>\n",
       "      <td>Service Failure</td>\n",
       "      <td></td>\n",
       "      <td>parent</td>\n",
       "    </tr>\n",
       "    <tr>\n",
       "      <th>14</th>\n",
       "      <td>pagerduty: server:  alwayson replica is not in...</td>\n",
       "      <td>Service Failure</td>\n",
       "      <td></td>\n",
       "      <td>parent</td>\n",
       "    </tr>\n",
       "    <tr>\n",
       "      <th>15</th>\n",
       "      <td>pagerduty: server:  alwayson replica is not in...</td>\n",
       "      <td>HA-DR</td>\n",
       "      <td></td>\n",
       "      <td>child</td>\n",
       "    </tr>\n",
       "    <tr>\n",
       "      <th>16</th>\n",
       "      <td>pagerduty: server: ldsqlmid01.rimes.dir always...</td>\n",
       "      <td></td>\n",
       "      <td>LDSQLMID01.rimes.dir</td>\n",
       "      <td>parent</td>\n",
       "    </tr>\n",
       "    <tr>\n",
       "      <th>17</th>\n",
       "      <td>pagerduty: server:  alwayson replica is not in...</td>\n",
       "      <td>HA-DR</td>\n",
       "      <td></td>\n",
       "      <td>parent</td>\n",
       "    </tr>\n",
       "    <tr>\n",
       "      <th>18</th>\n",
       "      <td>pagerduty: server: ukcppbnode4.rws.com alwayso...</td>\n",
       "      <td>HA-DR</td>\n",
       "      <td>UKCPPBNODE4.rws.com</td>\n",
       "      <td>parent</td>\n",
       "    </tr>\n",
       "  </tbody>\n",
       "</table>\n",
       "</div>"
      ],
      "text/plain": [
       "                                                       title             type  \\\n",
       "ticket_no                                                                       \n",
       "1          server: ctil-sqlssis02.ctil.local disk free sp...      Space Issue   \n",
       "2            server: ukcppbnode4.rws.com disk free space: g:      Space Issue   \n",
       "3          pagerduty: server:  alwayson replica is not in...                    \n",
       "4          pagerduty: server:  alwayson replica is not in...            HA-DR   \n",
       "5          pagerduty: server:  alwayson replica is not in...            HA-DR   \n",
       "6          rca: bss-des-sql07\\bsserp  availability group ...            HA-DR   \n",
       "7          pagerduty: server:  alwayson replica is not in...            HA-DR   \n",
       "8          pagerduty: server:  alwayson replica is not in...            HA-DR   \n",
       "9          pagerduty: server: bss-dep-sql07\\bsserp always...            HA-DR   \n",
       "10          server: ldsqlmid01.rimes.dir disk free space: f:      Space Issue   \n",
       "11         server: tgsqlclust02.trakglobal.local disk fre...      Space Issue   \n",
       "12         server: sousq01l.itslaw.co.uk disk free space: g:      Space Issue   \n",
       "13         rca - alwayson replica is not in the primary o...  Service Failure   \n",
       "14         pagerduty: server:  alwayson replica is not in...  Service Failure   \n",
       "15         pagerduty: server:  alwayson replica is not in...            HA-DR   \n",
       "16         pagerduty: server: ldsqlmid01.rimes.dir always...                    \n",
       "17         pagerduty: server:  alwayson replica is not in...            HA-DR   \n",
       "18         pagerduty: server: ukcppbnode4.rws.com alwayso...            HA-DR   \n",
       "\n",
       "                           configuration   level  \n",
       "ticket_no                                         \n",
       "1              ctil-sqlssis02.ctil.local  parent  \n",
       "2                   cUKCPPBNODE4.rws.com  parent  \n",
       "3                   LDSQLMID01.rimes.dir   child  \n",
       "4                    UKCPPBNODE4.rws.com  parent  \n",
       "5              ctil-sqlssis01.ctil.local  parent  \n",
       "6                   BSS-DES-SQL07\\BSSERP  parent  \n",
       "7                                          child  \n",
       "8              ctil-sqlssis02.ctil.local  parent  \n",
       "9                                         parent  \n",
       "10                  LDSQLMID01.rimes.dir  parent  \n",
       "11         TGSQLCLUST02.trakglobal.local  parent  \n",
       "12                 SOUSQ01L.ITSLAW.CO.UK  parent  \n",
       "13                                        parent  \n",
       "14                                        parent  \n",
       "15                                         child  \n",
       "16                  LDSQLMID01.rimes.dir  parent  \n",
       "17                                        parent  \n",
       "18                  UKCPPBNODE4.rws.com   parent  "
      ]
     },
     "execution_count": 3,
     "metadata": {},
     "output_type": "execute_result"
    }
   ],
   "source": [
    "df = pd.DataFrame(data=data, columns=columns)\n",
    "df.set_index('ticket_no',inplace=True)\n",
    "df.title = df.title.str.lower()\n",
    "df"
   ]
  },
  {
   "cell_type": "code",
   "execution_count": 4,
   "id": "c623358d",
   "metadata": {},
   "outputs": [],
   "source": [
    "# DataFrame of only parent tickets\n",
    "df2 = df[df['level']=='parent']"
   ]
  },
  {
   "cell_type": "code",
   "execution_count": 5,
   "id": "b6eaabe3",
   "metadata": {},
   "outputs": [
    {
     "data": {
      "text/html": [
       "<div>\n",
       "<style scoped>\n",
       "    .dataframe tbody tr th:only-of-type {\n",
       "        vertical-align: middle;\n",
       "    }\n",
       "\n",
       "    .dataframe tbody tr th {\n",
       "        vertical-align: top;\n",
       "    }\n",
       "\n",
       "    .dataframe thead th {\n",
       "        text-align: right;\n",
       "    }\n",
       "</style>\n",
       "<table border=\"1\" class=\"dataframe\">\n",
       "  <thead>\n",
       "    <tr style=\"text-align: right;\">\n",
       "      <th></th>\n",
       "      <th>title</th>\n",
       "      <th>type</th>\n",
       "      <th>configuration</th>\n",
       "      <th>count</th>\n",
       "    </tr>\n",
       "  </thead>\n",
       "  <tbody>\n",
       "    <tr>\n",
       "      <th>0</th>\n",
       "      <td>pagerduty: server:  alwayson replica is not in...</td>\n",
       "      <td>HA-DR</td>\n",
       "      <td>4</td>\n",
       "      <td>4</td>\n",
       "    </tr>\n",
       "    <tr>\n",
       "      <th>1</th>\n",
       "      <td>pagerduty: server:  alwayson replica is not in...</td>\n",
       "      <td>Service Failure</td>\n",
       "      <td>1</td>\n",
       "      <td>1</td>\n",
       "    </tr>\n",
       "    <tr>\n",
       "      <th>2</th>\n",
       "      <td>pagerduty: server: bss-dep-sql07\\bsserp always...</td>\n",
       "      <td>HA-DR</td>\n",
       "      <td>1</td>\n",
       "      <td>1</td>\n",
       "    </tr>\n",
       "    <tr>\n",
       "      <th>3</th>\n",
       "      <td>pagerduty: server: ldsqlmid01.rimes.dir always...</td>\n",
       "      <td></td>\n",
       "      <td>1</td>\n",
       "      <td>1</td>\n",
       "    </tr>\n",
       "    <tr>\n",
       "      <th>4</th>\n",
       "      <td>pagerduty: server: ukcppbnode4.rws.com alwayso...</td>\n",
       "      <td>HA-DR</td>\n",
       "      <td>1</td>\n",
       "      <td>1</td>\n",
       "    </tr>\n",
       "    <tr>\n",
       "      <th>5</th>\n",
       "      <td>rca - alwayson replica is not in the primary o...</td>\n",
       "      <td>Service Failure</td>\n",
       "      <td>1</td>\n",
       "      <td>1</td>\n",
       "    </tr>\n",
       "    <tr>\n",
       "      <th>6</th>\n",
       "      <td>rca: bss-des-sql07\\bsserp  availability group ...</td>\n",
       "      <td>HA-DR</td>\n",
       "      <td>1</td>\n",
       "      <td>1</td>\n",
       "    </tr>\n",
       "    <tr>\n",
       "      <th>7</th>\n",
       "      <td>server: ctil-sqlssis02.ctil.local disk free sp...</td>\n",
       "      <td>Space Issue</td>\n",
       "      <td>1</td>\n",
       "      <td>1</td>\n",
       "    </tr>\n",
       "    <tr>\n",
       "      <th>8</th>\n",
       "      <td>server: ldsqlmid01.rimes.dir disk free space: f:</td>\n",
       "      <td>Space Issue</td>\n",
       "      <td>1</td>\n",
       "      <td>1</td>\n",
       "    </tr>\n",
       "    <tr>\n",
       "      <th>9</th>\n",
       "      <td>server: sousq01l.itslaw.co.uk disk free space: g:</td>\n",
       "      <td>Space Issue</td>\n",
       "      <td>1</td>\n",
       "      <td>1</td>\n",
       "    </tr>\n",
       "    <tr>\n",
       "      <th>10</th>\n",
       "      <td>server: tgsqlclust02.trakglobal.local disk fre...</td>\n",
       "      <td>Space Issue</td>\n",
       "      <td>1</td>\n",
       "      <td>1</td>\n",
       "    </tr>\n",
       "    <tr>\n",
       "      <th>11</th>\n",
       "      <td>server: ukcppbnode4.rws.com disk free space: g:</td>\n",
       "      <td>Space Issue</td>\n",
       "      <td>1</td>\n",
       "      <td>1</td>\n",
       "    </tr>\n",
       "  </tbody>\n",
       "</table>\n",
       "</div>"
      ],
      "text/plain": [
       "                                                title             type  \\\n",
       "0   pagerduty: server:  alwayson replica is not in...            HA-DR   \n",
       "1   pagerduty: server:  alwayson replica is not in...  Service Failure   \n",
       "2   pagerduty: server: bss-dep-sql07\\bsserp always...            HA-DR   \n",
       "3   pagerduty: server: ldsqlmid01.rimes.dir always...                    \n",
       "4   pagerduty: server: ukcppbnode4.rws.com alwayso...            HA-DR   \n",
       "5   rca - alwayson replica is not in the primary o...  Service Failure   \n",
       "6   rca: bss-des-sql07\\bsserp  availability group ...            HA-DR   \n",
       "7   server: ctil-sqlssis02.ctil.local disk free sp...      Space Issue   \n",
       "8    server: ldsqlmid01.rimes.dir disk free space: f:      Space Issue   \n",
       "9   server: sousq01l.itslaw.co.uk disk free space: g:      Space Issue   \n",
       "10  server: tgsqlclust02.trakglobal.local disk fre...      Space Issue   \n",
       "11    server: ukcppbnode4.rws.com disk free space: g:      Space Issue   \n",
       "\n",
       "    configuration  count  \n",
       "0               4      4  \n",
       "1               1      1  \n",
       "2               1      1  \n",
       "3               1      1  \n",
       "4               1      1  \n",
       "5               1      1  \n",
       "6               1      1  \n",
       "7               1      1  \n",
       "8               1      1  \n",
       "9               1      1  \n",
       "10              1      1  \n",
       "11              1      1  "
      ]
     },
     "execution_count": 5,
     "metadata": {},
     "output_type": "execute_result"
    }
   ],
   "source": [
    "# group by titles and type to see if any are ambiguous\n",
    "grouped_df = df2.groupby(['title','type'],as_index=False).count()\n",
    "grouped_df.rename(columns={'level':'count'},inplace=True)\n",
    "grouped_df"
   ]
  },
  {
   "cell_type": "code",
   "execution_count": 6,
   "id": "2c1fdea6",
   "metadata": {},
   "outputs": [
    {
     "data": {
      "text/html": [
       "<div>\n",
       "<style scoped>\n",
       "    .dataframe tbody tr th:only-of-type {\n",
       "        vertical-align: middle;\n",
       "    }\n",
       "\n",
       "    .dataframe tbody tr th {\n",
       "        vertical-align: top;\n",
       "    }\n",
       "\n",
       "    .dataframe thead th {\n",
       "        text-align: right;\n",
       "    }\n",
       "</style>\n",
       "<table border=\"1\" class=\"dataframe\">\n",
       "  <thead>\n",
       "    <tr style=\"text-align: right;\">\n",
       "      <th></th>\n",
       "      <th>count</th>\n",
       "    </tr>\n",
       "    <tr>\n",
       "      <th>title</th>\n",
       "      <th></th>\n",
       "    </tr>\n",
       "  </thead>\n",
       "  <tbody>\n",
       "    <tr>\n",
       "      <th>pagerduty: server:  alwayson replica is not in the primary or secondary role - custom</th>\n",
       "      <td>2</td>\n",
       "    </tr>\n",
       "  </tbody>\n",
       "</table>\n",
       "</div>"
      ],
      "text/plain": [
       "                                                    count\n",
       "title                                                    \n",
       "pagerduty: server:  alwayson replica is not in ...      2"
      ]
     },
     "execution_count": 6,
     "metadata": {},
     "output_type": "execute_result"
    }
   ],
   "source": [
    "grouped_grouped_df = grouped_df.groupby('title').count()\n",
    "count_df = grouped_grouped_df[grouped_grouped_df['type']>1]\n",
    "count_df[['count']]"
   ]
  },
  {
   "cell_type": "code",
   "execution_count": 7,
   "id": "e01978c3",
   "metadata": {},
   "outputs": [],
   "source": [
    "# Check if we need .  and \\ and any others\n",
    "df2['configuration_stripped'] = df2['configuration'].str.split(pat=\".\").str[0]"
   ]
  },
  {
   "cell_type": "code",
   "execution_count": 8,
   "id": "b1c78e61",
   "metadata": {},
   "outputs": [],
   "source": [
    "def f(title, replace1, replace2):\n",
    "    x = title.replace(replace1, '').replace(replace2, '')\n",
    "    return x"
   ]
  },
  {
   "cell_type": "code",
   "execution_count": 9,
   "id": "66c54590",
   "metadata": {},
   "outputs": [],
   "source": [
    "df2['title_stripped'] = df2.apply(lambda x: f(x['title'], x['configuration'], x['configuration_stripped']),axis=1)"
   ]
  },
  {
   "cell_type": "code",
   "execution_count": 10,
   "id": "be0b18ce",
   "metadata": {},
   "outputs": [
    {
     "data": {
      "text/plain": [
       "ticket_no\n",
       "1                                   disk free space: f:\n",
       "2               ukcppbnode4.rws.com disk free space: g:\n",
       "4     alwayson replica is not in the primary or seco...\n",
       "5     alwayson replica is not in the primary or seco...\n",
       "6     bss-des-sql07\\bsserp  availability group [alwa...\n",
       "8     alwayson replica is not in the primary or seco...\n",
       "9     bss-dep-sql07\\bsserp alwayson replica is not i...\n",
       "10             ldsqlmid01.rimes.dir disk free space: f:\n",
       "11    tgsqlclust02.trakglobal.local disk free space:...\n",
       "12            sousq01l.itslaw.co.uk disk free space: g:\n",
       "13    alwayson replica is not in the primary or seco...\n",
       "14    alwayson replica is not in the primary or seco...\n",
       "16    ldsqlmid01.rimes.dir alwayson replica is not i...\n",
       "17    alwayson replica is not in the primary or seco...\n",
       "18    ukcppbnode4.rws.com alwayson replica is not in...\n",
       "Name: title_stripped, dtype: object"
      ]
     },
     "execution_count": 10,
     "metadata": {},
     "output_type": "execute_result"
    }
   ],
   "source": [
    "df2['title_stripped'] = df2['title_stripped'] \\\n",
    ".apply(lambda x: x.replace('server: ','')) \\\n",
    ".apply(lambda x: x.replace('pagerduty: ','')) \\\n",
    ".apply(lambda x: x.replace('rca: ','')) \\\n",
    ".apply(lambda x: x.replace('rca - ','')) \\\n",
    ".apply(lambda x: x.strip())\n",
    "df2['title_stripped']"
   ]
  },
  {
   "cell_type": "code",
   "execution_count": 11,
   "id": "f1b06ffa",
   "metadata": {},
   "outputs": [
    {
     "data": {
      "text/html": [
       "<div>\n",
       "<style scoped>\n",
       "    .dataframe tbody tr th:only-of-type {\n",
       "        vertical-align: middle;\n",
       "    }\n",
       "\n",
       "    .dataframe tbody tr th {\n",
       "        vertical-align: top;\n",
       "    }\n",
       "\n",
       "    .dataframe thead th {\n",
       "        text-align: right;\n",
       "    }\n",
       "</style>\n",
       "<table border=\"1\" class=\"dataframe\">\n",
       "  <thead>\n",
       "    <tr style=\"text-align: right;\">\n",
       "      <th></th>\n",
       "      <th>title_stripped</th>\n",
       "      <th>type</th>\n",
       "      <th>title</th>\n",
       "      <th>configuration</th>\n",
       "      <th>level</th>\n",
       "      <th>configuration_stripped</th>\n",
       "    </tr>\n",
       "  </thead>\n",
       "  <tbody>\n",
       "    <tr>\n",
       "      <th>0</th>\n",
       "      <td>alwayson replica is not in the primary or secondary role - custom</td>\n",
       "      <td>HA-DR</td>\n",
       "      <td>4</td>\n",
       "      <td>4</td>\n",
       "      <td>4</td>\n",
       "      <td>4</td>\n",
       "    </tr>\n",
       "    <tr>\n",
       "      <th>1</th>\n",
       "      <td>alwayson replica is not in the primary or secondary role - custom</td>\n",
       "      <td>Service Failure</td>\n",
       "      <td>1</td>\n",
       "      <td>1</td>\n",
       "      <td>1</td>\n",
       "      <td>1</td>\n",
       "    </tr>\n",
       "    <tr>\n",
       "      <th>2</th>\n",
       "      <td>alwayson replica is not in the primary or secondary role on  publicsqlf</td>\n",
       "      <td>Service Failure</td>\n",
       "      <td>1</td>\n",
       "      <td>1</td>\n",
       "      <td>1</td>\n",
       "      <td>1</td>\n",
       "    </tr>\n",
       "    <tr>\n",
       "      <th>3</th>\n",
       "      <td>bss-dep-sql07\\bsserp alwayson replica is not in the primary or secondary role - custom</td>\n",
       "      <td>HA-DR</td>\n",
       "      <td>1</td>\n",
       "      <td>1</td>\n",
       "      <td>1</td>\n",
       "      <td>1</td>\n",
       "    </tr>\n",
       "    <tr>\n",
       "      <th>4</th>\n",
       "      <td>bss-des-sql07\\bsserp  availability group [alwayson replica is not in the primary or secondary]</td>\n",
       "      <td>HA-DR</td>\n",
       "      <td>1</td>\n",
       "      <td>1</td>\n",
       "      <td>1</td>\n",
       "      <td>1</td>\n",
       "    </tr>\n",
       "    <tr>\n",
       "      <th>5</th>\n",
       "      <td>disk free space: f:</td>\n",
       "      <td>Space Issue</td>\n",
       "      <td>1</td>\n",
       "      <td>1</td>\n",
       "      <td>1</td>\n",
       "      <td>1</td>\n",
       "    </tr>\n",
       "    <tr>\n",
       "      <th>6</th>\n",
       "      <td>ldsqlmid01.rimes.dir alwayson replica is not in the primary or secondary role - custom</td>\n",
       "      <td></td>\n",
       "      <td>1</td>\n",
       "      <td>1</td>\n",
       "      <td>1</td>\n",
       "      <td>1</td>\n",
       "    </tr>\n",
       "    <tr>\n",
       "      <th>7</th>\n",
       "      <td>ldsqlmid01.rimes.dir disk free space: f:</td>\n",
       "      <td>Space Issue</td>\n",
       "      <td>1</td>\n",
       "      <td>1</td>\n",
       "      <td>1</td>\n",
       "      <td>1</td>\n",
       "    </tr>\n",
       "    <tr>\n",
       "      <th>8</th>\n",
       "      <td>sousq01l.itslaw.co.uk disk free space: g:</td>\n",
       "      <td>Space Issue</td>\n",
       "      <td>1</td>\n",
       "      <td>1</td>\n",
       "      <td>1</td>\n",
       "      <td>1</td>\n",
       "    </tr>\n",
       "    <tr>\n",
       "      <th>9</th>\n",
       "      <td>tgsqlclust02.trakglobal.local disk free space: cluster disk 16_k:</td>\n",
       "      <td>Space Issue</td>\n",
       "      <td>1</td>\n",
       "      <td>1</td>\n",
       "      <td>1</td>\n",
       "      <td>1</td>\n",
       "    </tr>\n",
       "    <tr>\n",
       "      <th>10</th>\n",
       "      <td>ukcppbnode4.rws.com alwayson replica is not in the primary or secondary role - custom</td>\n",
       "      <td>HA-DR</td>\n",
       "      <td>1</td>\n",
       "      <td>1</td>\n",
       "      <td>1</td>\n",
       "      <td>1</td>\n",
       "    </tr>\n",
       "    <tr>\n",
       "      <th>11</th>\n",
       "      <td>ukcppbnode4.rws.com disk free space: g:</td>\n",
       "      <td>Space Issue</td>\n",
       "      <td>1</td>\n",
       "      <td>1</td>\n",
       "      <td>1</td>\n",
       "      <td>1</td>\n",
       "    </tr>\n",
       "  </tbody>\n",
       "</table>\n",
       "</div>"
      ],
      "text/plain": [
       "                                                                                    title_stripped  \\\n",
       "0                                alwayson replica is not in the primary or secondary role - custom   \n",
       "1                                alwayson replica is not in the primary or secondary role - custom   \n",
       "2                          alwayson replica is not in the primary or secondary role on  publicsqlf   \n",
       "3           bss-dep-sql07\\bsserp alwayson replica is not in the primary or secondary role - custom   \n",
       "4   bss-des-sql07\\bsserp  availability group [alwayson replica is not in the primary or secondary]   \n",
       "5                                                                              disk free space: f:   \n",
       "6           ldsqlmid01.rimes.dir alwayson replica is not in the primary or secondary role - custom   \n",
       "7                                                         ldsqlmid01.rimes.dir disk free space: f:   \n",
       "8                                                        sousq01l.itslaw.co.uk disk free space: g:   \n",
       "9                                tgsqlclust02.trakglobal.local disk free space: cluster disk 16_k:   \n",
       "10           ukcppbnode4.rws.com alwayson replica is not in the primary or secondary role - custom   \n",
       "11                                                         ukcppbnode4.rws.com disk free space: g:   \n",
       "\n",
       "               type  title  configuration  level  configuration_stripped  \n",
       "0             HA-DR      4              4      4                       4  \n",
       "1   Service Failure      1              1      1                       1  \n",
       "2   Service Failure      1              1      1                       1  \n",
       "3             HA-DR      1              1      1                       1  \n",
       "4             HA-DR      1              1      1                       1  \n",
       "5       Space Issue      1              1      1                       1  \n",
       "6                        1              1      1                       1  \n",
       "7       Space Issue      1              1      1                       1  \n",
       "8       Space Issue      1              1      1                       1  \n",
       "9       Space Issue      1              1      1                       1  \n",
       "10            HA-DR      1              1      1                       1  \n",
       "11      Space Issue      1              1      1                       1  "
      ]
     },
     "metadata": {},
     "output_type": "display_data"
    }
   ],
   "source": [
    "# group by titles and type to see if any are ambiguous\n",
    "grouped_df = df2.groupby(['title_stripped','type'],as_index=False).count()\n",
    "grouped_df.rename(columns={'level':'count'})\n",
    "with pd.option_context('display.max_colwidth', None):\n",
    "  display(grouped_df)"
   ]
  },
  {
   "cell_type": "code",
   "execution_count": 12,
   "id": "e708f097",
   "metadata": {},
   "outputs": [
    {
     "data": {
      "text/html": [
       "<div>\n",
       "<style scoped>\n",
       "    .dataframe tbody tr th:only-of-type {\n",
       "        vertical-align: middle;\n",
       "    }\n",
       "\n",
       "    .dataframe tbody tr th {\n",
       "        vertical-align: top;\n",
       "    }\n",
       "\n",
       "    .dataframe thead th {\n",
       "        text-align: right;\n",
       "    }\n",
       "</style>\n",
       "<table border=\"1\" class=\"dataframe\">\n",
       "  <thead>\n",
       "    <tr style=\"text-align: right;\">\n",
       "      <th></th>\n",
       "      <th>count</th>\n",
       "    </tr>\n",
       "    <tr>\n",
       "      <th>title_stripped</th>\n",
       "      <th></th>\n",
       "    </tr>\n",
       "  </thead>\n",
       "  <tbody>\n",
       "    <tr>\n",
       "      <th>alwayson replica is not in the primary or secondary role - custom</th>\n",
       "      <td>2</td>\n",
       "    </tr>\n",
       "  </tbody>\n",
       "</table>\n",
       "</div>"
      ],
      "text/plain": [
       "                                                    count\n",
       "title_stripped                                           \n",
       "alwayson replica is not in the primary or secon...      2"
      ]
     },
     "execution_count": 12,
     "metadata": {},
     "output_type": "execute_result"
    }
   ],
   "source": [
    "grouped_grouped_df = grouped_df.groupby('title_stripped').count()\n",
    "count_df = grouped_grouped_df[grouped_grouped_df['type']>1]\n",
    "count_df = count_df[['type']]\n",
    "count_df.rename(columns={'type':'count'}, inplace='True')\n",
    "count_df"
   ]
  },
  {
   "cell_type": "code",
   "execution_count": 13,
   "id": "bd602a8b",
   "metadata": {},
   "outputs": [
    {
     "data": {
      "text/plain": [
       "ticket_no\n",
       "1                                                                                disk free space: f:\n",
       "2                                                                                disk free space: g:\n",
       "4                                  alwayson replica is not in the primary or secondary role - custom\n",
       "5                                  alwayson replica is not in the primary or secondary role - custom\n",
       "6     bss-des-sql07\\bsserp  availability group [alwayson replica is not in the primary or secondary]\n",
       "8                                  alwayson replica is not in the primary or secondary role - custom\n",
       "9             bss-dep-sql07\\bsserp alwayson replica is not in the primary or secondary role - custom\n",
       "10                                                          ldsqlmid01.rimes.dir disk free space: f:\n",
       "11                                                               disk free space: cluster disk 16_k:\n",
       "12                                                                               disk free space: g:\n",
       "13                           alwayson replica is not in the primary or secondary role on  publicsqlf\n",
       "14                                 alwayson replica is not in the primary or secondary role - custom\n",
       "16            ldsqlmid01.rimes.dir alwayson replica is not in the primary or secondary role - custom\n",
       "17                                 alwayson replica is not in the primary or secondary role - custom\n",
       "18                                 alwayson replica is not in the primary or secondary role - custom\n",
       "Name: title_stripped, dtype: object"
      ]
     },
     "metadata": {},
     "output_type": "display_data"
    }
   ],
   "source": [
    "df2['title_stripped'] = df2['title_stripped'].str.split(pat=\".local\").str[-1]\n",
    "df2['title_stripped'] = df2['title_stripped'].str.split(pat=\".com\").str[-1]\n",
    "df2['title_stripped'] = df2['title_stripped'].str.split(pat=\".co.uk\").str[-1]\n",
    "df2['title_stripped'] = df2['title_stripped'].str.strip()\n",
    "with pd.option_context('display.max_colwidth', None):\n",
    "  display(df2['title_stripped'])"
   ]
  },
  {
   "cell_type": "code",
   "execution_count": 14,
   "id": "1a2dc187",
   "metadata": {},
   "outputs": [],
   "source": [
    "def similar(a, b):\n",
    "    return SequenceMatcher(None, a, b).ratio()\n",
    "\n",
    "common_titles = list(df2['title_stripped'])\n",
    "\n",
    "cols_to_add = len(common_titles)\n",
    "for count, value in enumerate(common_titles):\n",
    "    df2['similarity_col_' + str(count)] = df2['title_stripped'].apply(lambda x: similar(x,value))"
   ]
  },
  {
   "cell_type": "code",
   "execution_count": 15,
   "id": "a6c4c981",
   "metadata": {},
   "outputs": [],
   "source": [
    "common_titles_matrix = df2.copy()\n",
    "common_titles_matrix = common_titles_matrix[['title_stripped']].drop_duplicates()\n",
    "common_titles = list(common_titles_matrix['title_stripped'])\n",
    "\n",
    "cols_to_add = len(common_titles)\n",
    "for count, value in enumerate(common_titles):\n",
    "    common_titles_matrix[str(value)] = common_titles_matrix['title_stripped'].apply(lambda x: similar(x,value))\n",
    "    \n",
    "common_titles_matrix.set_index('title_stripped',inplace=True)"
   ]
  },
  {
   "cell_type": "code",
   "execution_count": 21,
   "id": "c123360b",
   "metadata": {},
   "outputs": [
    {
     "data": {
      "text/html": [
       "<div>\n",
       "<style scoped>\n",
       "    .dataframe tbody tr th:only-of-type {\n",
       "        vertical-align: middle;\n",
       "    }\n",
       "\n",
       "    .dataframe tbody tr th {\n",
       "        vertical-align: top;\n",
       "    }\n",
       "\n",
       "    .dataframe thead th {\n",
       "        text-align: right;\n",
       "    }\n",
       "</style>\n",
       "<table border=\"1\" class=\"dataframe\">\n",
       "  <thead>\n",
       "    <tr style=\"text-align: right;\">\n",
       "      <th></th>\n",
       "      <th>disk free space: f:</th>\n",
       "      <th>disk free space: g:</th>\n",
       "      <th>alwayson replica is not in the primary or secondary role - custom</th>\n",
       "      <th>bss-des-sql07\\bsserp  availability group [alwayson replica is not in the primary or secondary]</th>\n",
       "      <th>bss-dep-sql07\\bsserp alwayson replica is not in the primary or secondary role - custom</th>\n",
       "      <th>ldsqlmid01.rimes.dir disk free space: f:</th>\n",
       "      <th>disk free space: cluster disk 16_k:</th>\n",
       "      <th>alwayson replica is not in the primary or secondary role on  publicsqlf</th>\n",
       "      <th>ldsqlmid01.rimes.dir alwayson replica is not in the primary or secondary role - custom</th>\n",
       "    </tr>\n",
       "    <tr>\n",
       "      <th>title_stripped</th>\n",
       "      <th></th>\n",
       "      <th></th>\n",
       "      <th></th>\n",
       "      <th></th>\n",
       "      <th></th>\n",
       "      <th></th>\n",
       "      <th></th>\n",
       "      <th></th>\n",
       "      <th></th>\n",
       "    </tr>\n",
       "  </thead>\n",
       "  <tbody>\n",
       "    <tr>\n",
       "      <th>disk free space: f:</th>\n",
       "      <td>1.000000</td>\n",
       "      <td>0.947368</td>\n",
       "      <td>0.190476</td>\n",
       "      <td>0.141593</td>\n",
       "      <td>0.171429</td>\n",
       "      <td>0.644068</td>\n",
       "      <td>0.666667</td>\n",
       "      <td>0.200000</td>\n",
       "      <td>0.209524</td>\n",
       "    </tr>\n",
       "    <tr>\n",
       "      <th>disk free space: g:</th>\n",
       "      <td>0.947368</td>\n",
       "      <td>1.000000</td>\n",
       "      <td>0.190476</td>\n",
       "      <td>0.141593</td>\n",
       "      <td>0.171429</td>\n",
       "      <td>0.610169</td>\n",
       "      <td>0.666667</td>\n",
       "      <td>0.177778</td>\n",
       "      <td>0.209524</td>\n",
       "    </tr>\n",
       "    <tr>\n",
       "      <th>alwayson replica is not in the primary or secondary role - custom</th>\n",
       "      <td>0.214286</td>\n",
       "      <td>0.214286</td>\n",
       "      <td>1.000000</td>\n",
       "      <td>0.641509</td>\n",
       "      <td>0.860927</td>\n",
       "      <td>0.266667</td>\n",
       "      <td>0.280000</td>\n",
       "      <td>0.882353</td>\n",
       "      <td>0.860927</td>\n",
       "    </tr>\n",
       "    <tr>\n",
       "      <th>bss-des-sql07\\bsserp  availability group [alwayson replica is not in the primary or secondary]</th>\n",
       "      <td>0.159292</td>\n",
       "      <td>0.088496</td>\n",
       "      <td>0.641509</td>\n",
       "      <td>1.000000</td>\n",
       "      <td>0.788889</td>\n",
       "      <td>0.194030</td>\n",
       "      <td>0.155039</td>\n",
       "      <td>0.618182</td>\n",
       "      <td>0.655556</td>\n",
       "    </tr>\n",
       "    <tr>\n",
       "      <th>bss-dep-sql07\\bsserp alwayson replica is not in the primary or secondary role - custom</th>\n",
       "      <td>0.171429</td>\n",
       "      <td>0.171429</td>\n",
       "      <td>0.860927</td>\n",
       "      <td>0.788889</td>\n",
       "      <td>1.000000</td>\n",
       "      <td>0.238095</td>\n",
       "      <td>0.231405</td>\n",
       "      <td>0.764331</td>\n",
       "      <td>0.848837</td>\n",
       "    </tr>\n",
       "    <tr>\n",
       "      <th>ldsqlmid01.rimes.dir disk free space: f:</th>\n",
       "      <td>0.644068</td>\n",
       "      <td>0.610169</td>\n",
       "      <td>0.285714</td>\n",
       "      <td>0.179104</td>\n",
       "      <td>0.253968</td>\n",
       "      <td>1.000000</td>\n",
       "      <td>0.480000</td>\n",
       "      <td>0.108108</td>\n",
       "      <td>0.460317</td>\n",
       "    </tr>\n",
       "    <tr>\n",
       "      <th>disk free space: cluster disk 16_k:</th>\n",
       "      <td>0.666667</td>\n",
       "      <td>0.666667</td>\n",
       "      <td>0.260000</td>\n",
       "      <td>0.186047</td>\n",
       "      <td>0.231405</td>\n",
       "      <td>0.480000</td>\n",
       "      <td>1.000000</td>\n",
       "      <td>0.245283</td>\n",
       "      <td>0.264463</td>\n",
       "    </tr>\n",
       "    <tr>\n",
       "      <th>alwayson replica is not in the primary or secondary role on  publicsqlf</th>\n",
       "      <td>0.222222</td>\n",
       "      <td>0.200000</td>\n",
       "      <td>0.852941</td>\n",
       "      <td>0.618182</td>\n",
       "      <td>0.738854</td>\n",
       "      <td>0.270270</td>\n",
       "      <td>0.188679</td>\n",
       "      <td>1.000000</td>\n",
       "      <td>0.738854</td>\n",
       "    </tr>\n",
       "    <tr>\n",
       "      <th>ldsqlmid01.rimes.dir alwayson replica is not in the primary or secondary role - custom</th>\n",
       "      <td>0.190476</td>\n",
       "      <td>0.190476</td>\n",
       "      <td>0.860927</td>\n",
       "      <td>0.644444</td>\n",
       "      <td>0.837209</td>\n",
       "      <td>0.476190</td>\n",
       "      <td>0.247934</td>\n",
       "      <td>0.764331</td>\n",
       "      <td>1.000000</td>\n",
       "    </tr>\n",
       "  </tbody>\n",
       "</table>\n",
       "</div>"
      ],
      "text/plain": [
       "                                                    disk free space: f:  \\\n",
       "title_stripped                                                            \n",
       "disk free space: f:                                            1.000000   \n",
       "disk free space: g:                                            0.947368   \n",
       "alwayson replica is not in the primary or secon...             0.214286   \n",
       "bss-des-sql07\\bsserp  availability group [alway...             0.159292   \n",
       "bss-dep-sql07\\bsserp alwayson replica is not in...             0.171429   \n",
       "ldsqlmid01.rimes.dir disk free space: f:                       0.644068   \n",
       "disk free space: cluster disk 16_k:                            0.666667   \n",
       "alwayson replica is not in the primary or secon...             0.222222   \n",
       "ldsqlmid01.rimes.dir alwayson replica is not in...             0.190476   \n",
       "\n",
       "                                                    disk free space: g:  \\\n",
       "title_stripped                                                            \n",
       "disk free space: f:                                            0.947368   \n",
       "disk free space: g:                                            1.000000   \n",
       "alwayson replica is not in the primary or secon...             0.214286   \n",
       "bss-des-sql07\\bsserp  availability group [alway...             0.088496   \n",
       "bss-dep-sql07\\bsserp alwayson replica is not in...             0.171429   \n",
       "ldsqlmid01.rimes.dir disk free space: f:                       0.610169   \n",
       "disk free space: cluster disk 16_k:                            0.666667   \n",
       "alwayson replica is not in the primary or secon...             0.200000   \n",
       "ldsqlmid01.rimes.dir alwayson replica is not in...             0.190476   \n",
       "\n",
       "                                                    alwayson replica is not in the primary or secondary role - custom  \\\n",
       "title_stripped                                                                                                          \n",
       "disk free space: f:                                                                          0.190476                   \n",
       "disk free space: g:                                                                          0.190476                   \n",
       "alwayson replica is not in the primary or secon...                                           1.000000                   \n",
       "bss-des-sql07\\bsserp  availability group [alway...                                           0.641509                   \n",
       "bss-dep-sql07\\bsserp alwayson replica is not in...                                           0.860927                   \n",
       "ldsqlmid01.rimes.dir disk free space: f:                                                     0.285714                   \n",
       "disk free space: cluster disk 16_k:                                                          0.260000                   \n",
       "alwayson replica is not in the primary or secon...                                           0.852941                   \n",
       "ldsqlmid01.rimes.dir alwayson replica is not in...                                           0.860927                   \n",
       "\n",
       "                                                    bss-des-sql07\\bsserp  availability group [alwayson replica is not in the primary or secondary]  \\\n",
       "title_stripped                                                                                                                                       \n",
       "disk free space: f:                                                                          0.141593                                                \n",
       "disk free space: g:                                                                          0.141593                                                \n",
       "alwayson replica is not in the primary or secon...                                           0.641509                                                \n",
       "bss-des-sql07\\bsserp  availability group [alway...                                           1.000000                                                \n",
       "bss-dep-sql07\\bsserp alwayson replica is not in...                                           0.788889                                                \n",
       "ldsqlmid01.rimes.dir disk free space: f:                                                     0.179104                                                \n",
       "disk free space: cluster disk 16_k:                                                          0.186047                                                \n",
       "alwayson replica is not in the primary or secon...                                           0.618182                                                \n",
       "ldsqlmid01.rimes.dir alwayson replica is not in...                                           0.644444                                                \n",
       "\n",
       "                                                    bss-dep-sql07\\bsserp alwayson replica is not in the primary or secondary role - custom  \\\n",
       "title_stripped                                                                                                                               \n",
       "disk free space: f:                                                                          0.171429                                        \n",
       "disk free space: g:                                                                          0.171429                                        \n",
       "alwayson replica is not in the primary or secon...                                           0.860927                                        \n",
       "bss-des-sql07\\bsserp  availability group [alway...                                           0.788889                                        \n",
       "bss-dep-sql07\\bsserp alwayson replica is not in...                                           1.000000                                        \n",
       "ldsqlmid01.rimes.dir disk free space: f:                                                     0.253968                                        \n",
       "disk free space: cluster disk 16_k:                                                          0.231405                                        \n",
       "alwayson replica is not in the primary or secon...                                           0.738854                                        \n",
       "ldsqlmid01.rimes.dir alwayson replica is not in...                                           0.837209                                        \n",
       "\n",
       "                                                    ldsqlmid01.rimes.dir disk free space: f:  \\\n",
       "title_stripped                                                                                 \n",
       "disk free space: f:                                                                 0.644068   \n",
       "disk free space: g:                                                                 0.610169   \n",
       "alwayson replica is not in the primary or secon...                                  0.266667   \n",
       "bss-des-sql07\\bsserp  availability group [alway...                                  0.194030   \n",
       "bss-dep-sql07\\bsserp alwayson replica is not in...                                  0.238095   \n",
       "ldsqlmid01.rimes.dir disk free space: f:                                            1.000000   \n",
       "disk free space: cluster disk 16_k:                                                 0.480000   \n",
       "alwayson replica is not in the primary or secon...                                  0.270270   \n",
       "ldsqlmid01.rimes.dir alwayson replica is not in...                                  0.476190   \n",
       "\n",
       "                                                    disk free space: cluster disk 16_k:  \\\n",
       "title_stripped                                                                            \n",
       "disk free space: f:                                                            0.666667   \n",
       "disk free space: g:                                                            0.666667   \n",
       "alwayson replica is not in the primary or secon...                             0.280000   \n",
       "bss-des-sql07\\bsserp  availability group [alway...                             0.155039   \n",
       "bss-dep-sql07\\bsserp alwayson replica is not in...                             0.231405   \n",
       "ldsqlmid01.rimes.dir disk free space: f:                                       0.480000   \n",
       "disk free space: cluster disk 16_k:                                            1.000000   \n",
       "alwayson replica is not in the primary or secon...                             0.188679   \n",
       "ldsqlmid01.rimes.dir alwayson replica is not in...                             0.247934   \n",
       "\n",
       "                                                    alwayson replica is not in the primary or secondary role on  publicsqlf  \\\n",
       "title_stripped                                                                                                                \n",
       "disk free space: f:                                                                          0.200000                         \n",
       "disk free space: g:                                                                          0.177778                         \n",
       "alwayson replica is not in the primary or secon...                                           0.882353                         \n",
       "bss-des-sql07\\bsserp  availability group [alway...                                           0.618182                         \n",
       "bss-dep-sql07\\bsserp alwayson replica is not in...                                           0.764331                         \n",
       "ldsqlmid01.rimes.dir disk free space: f:                                                     0.108108                         \n",
       "disk free space: cluster disk 16_k:                                                          0.245283                         \n",
       "alwayson replica is not in the primary or secon...                                           1.000000                         \n",
       "ldsqlmid01.rimes.dir alwayson replica is not in...                                           0.764331                         \n",
       "\n",
       "                                                    ldsqlmid01.rimes.dir alwayson replica is not in the primary or secondary role - custom  \n",
       "title_stripped                                                                                                                              \n",
       "disk free space: f:                                                                          0.209524                                       \n",
       "disk free space: g:                                                                          0.209524                                       \n",
       "alwayson replica is not in the primary or secon...                                           0.860927                                       \n",
       "bss-des-sql07\\bsserp  availability group [alway...                                           0.655556                                       \n",
       "bss-dep-sql07\\bsserp alwayson replica is not in...                                           0.848837                                       \n",
       "ldsqlmid01.rimes.dir disk free space: f:                                                     0.460317                                       \n",
       "disk free space: cluster disk 16_k:                                                          0.264463                                       \n",
       "alwayson replica is not in the primary or secon...                                           0.738854                                       \n",
       "ldsqlmid01.rimes.dir alwayson replica is not in...                                           1.000000                                       "
      ]
     },
     "execution_count": 21,
     "metadata": {},
     "output_type": "execute_result"
    }
   ],
   "source": [
    "common_titles_matrix"
   ]
  },
  {
   "cell_type": "code",
   "execution_count": 43,
   "id": "universal-order",
   "metadata": {},
   "outputs": [
    {
     "data": {
      "application/vnd.plotly.v1+json": {
       "config": {
        "plotlyServerURL": "https://plot.ly"
       },
       "data": [
        {
         "coloraxis": "coloraxis",
         "hovertemplate": "x: %{x}<br>title_stripped: %{y}<br>color: %{z}<extra></extra>",
         "name": "0",
         "type": "heatmap",
         "x": [
          "disk free space: f:",
          "disk free space: g:",
          "alwayson replica is not in the primary or secondary role - custom",
          "bss-des-sql07\\bsserp  availability group [alwayson replica is not in the primary or secondary]",
          "bss-dep-sql07\\bsserp alwayson replica is not in the primary or secondary role - custom",
          "ldsqlmid01.rimes.dir disk free space: f:",
          "disk free space: cluster disk 16_k:",
          "alwayson replica is not in the primary or secondary role on  publicsqlf",
          "ldsqlmid01.rimes.dir alwayson replica is not in the primary or secondary role - custom"
         ],
         "xaxis": "x",
         "y": [
          "disk free space: f:",
          "disk free space: g:",
          "alwayson replica is not in the primary or secondary role - custom",
          "bss-des-sql07\\bsserp  availability group [alwayson replica is not in the primary or secondary]",
          "bss-dep-sql07\\bsserp alwayson replica is not in the primary or secondary role - custom",
          "ldsqlmid01.rimes.dir disk free space: f:",
          "disk free space: cluster disk 16_k:",
          "alwayson replica is not in the primary or secondary role on  publicsqlf",
          "ldsqlmid01.rimes.dir alwayson replica is not in the primary or secondary role - custom"
         ],
         "yaxis": "y",
         "z": [
          [
           1,
           0.9473684210526315,
           0.19047619047619047,
           0.1415929203539823,
           0.17142857142857143,
           0.6440677966101694,
           0.6666666666666666,
           0.2,
           0.20952380952380953
          ],
          [
           0.9473684210526315,
           1,
           0.19047619047619047,
           0.1415929203539823,
           0.17142857142857143,
           0.6101694915254238,
           0.6666666666666666,
           0.17777777777777778,
           0.20952380952380953
          ],
          [
           0.21428571428571427,
           0.21428571428571427,
           1,
           0.6415094339622641,
           0.8609271523178808,
           0.26666666666666666,
           0.28,
           0.8823529411764706,
           0.8609271523178808
          ],
          [
           0.1592920353982301,
           0.08849557522123894,
           0.6415094339622641,
           1,
           0.7888888888888889,
           0.19402985074626866,
           0.15503875968992248,
           0.6181818181818182,
           0.6555555555555556
          ],
          [
           0.17142857142857143,
           0.17142857142857143,
           0.8609271523178808,
           0.7888888888888889,
           1,
           0.23809523809523808,
           0.23140495867768596,
           0.7643312101910829,
           0.8488372093023255
          ],
          [
           0.6440677966101694,
           0.6101694915254238,
           0.2857142857142857,
           0.1791044776119403,
           0.25396825396825395,
           1,
           0.48,
           0.10810810810810811,
           0.4603174603174603
          ],
          [
           0.6666666666666666,
           0.6666666666666666,
           0.26,
           0.18604651162790697,
           0.23140495867768596,
           0.48,
           1,
           0.24528301886792453,
           0.2644628099173554
          ],
          [
           0.2222222222222222,
           0.2,
           0.8529411764705882,
           0.6181818181818182,
           0.7388535031847133,
           0.2702702702702703,
           0.18867924528301888,
           1,
           0.7388535031847133
          ],
          [
           0.19047619047619047,
           0.19047619047619047,
           0.8609271523178808,
           0.6444444444444445,
           0.8372093023255814,
           0.47619047619047616,
           0.24793388429752067,
           0.7643312101910829,
           1
          ]
         ]
        }
       ],
       "layout": {
        "coloraxis": {
         "colorscale": [
          [
           0,
           "#0d0887"
          ],
          [
           0.1111111111111111,
           "#46039f"
          ],
          [
           0.2222222222222222,
           "#7201a8"
          ],
          [
           0.3333333333333333,
           "#9c179e"
          ],
          [
           0.4444444444444444,
           "#bd3786"
          ],
          [
           0.5555555555555556,
           "#d8576b"
          ],
          [
           0.6666666666666666,
           "#ed7953"
          ],
          [
           0.7777777777777778,
           "#fb9f3a"
          ],
          [
           0.8888888888888888,
           "#fdca26"
          ],
          [
           1,
           "#f0f921"
          ]
         ]
        },
        "height": 400,
        "margin": {
         "b": 10,
         "l": 10,
         "r": 10,
         "t": 10
        },
        "template": {
         "data": {
          "bar": [
           {
            "error_x": {
             "color": "#2a3f5f"
            },
            "error_y": {
             "color": "#2a3f5f"
            },
            "marker": {
             "line": {
              "color": "#E5ECF6",
              "width": 0.5
             },
             "pattern": {
              "fillmode": "overlay",
              "size": 10,
              "solidity": 0.2
             }
            },
            "type": "bar"
           }
          ],
          "barpolar": [
           {
            "marker": {
             "line": {
              "color": "#E5ECF6",
              "width": 0.5
             },
             "pattern": {
              "fillmode": "overlay",
              "size": 10,
              "solidity": 0.2
             }
            },
            "type": "barpolar"
           }
          ],
          "carpet": [
           {
            "aaxis": {
             "endlinecolor": "#2a3f5f",
             "gridcolor": "white",
             "linecolor": "white",
             "minorgridcolor": "white",
             "startlinecolor": "#2a3f5f"
            },
            "baxis": {
             "endlinecolor": "#2a3f5f",
             "gridcolor": "white",
             "linecolor": "white",
             "minorgridcolor": "white",
             "startlinecolor": "#2a3f5f"
            },
            "type": "carpet"
           }
          ],
          "choropleth": [
           {
            "colorbar": {
             "outlinewidth": 0,
             "ticks": ""
            },
            "type": "choropleth"
           }
          ],
          "contour": [
           {
            "colorbar": {
             "outlinewidth": 0,
             "ticks": ""
            },
            "colorscale": [
             [
              0,
              "#0d0887"
             ],
             [
              0.1111111111111111,
              "#46039f"
             ],
             [
              0.2222222222222222,
              "#7201a8"
             ],
             [
              0.3333333333333333,
              "#9c179e"
             ],
             [
              0.4444444444444444,
              "#bd3786"
             ],
             [
              0.5555555555555556,
              "#d8576b"
             ],
             [
              0.6666666666666666,
              "#ed7953"
             ],
             [
              0.7777777777777778,
              "#fb9f3a"
             ],
             [
              0.8888888888888888,
              "#fdca26"
             ],
             [
              1,
              "#f0f921"
             ]
            ],
            "type": "contour"
           }
          ],
          "contourcarpet": [
           {
            "colorbar": {
             "outlinewidth": 0,
             "ticks": ""
            },
            "type": "contourcarpet"
           }
          ],
          "heatmap": [
           {
            "colorbar": {
             "outlinewidth": 0,
             "ticks": ""
            },
            "colorscale": [
             [
              0,
              "#0d0887"
             ],
             [
              0.1111111111111111,
              "#46039f"
             ],
             [
              0.2222222222222222,
              "#7201a8"
             ],
             [
              0.3333333333333333,
              "#9c179e"
             ],
             [
              0.4444444444444444,
              "#bd3786"
             ],
             [
              0.5555555555555556,
              "#d8576b"
             ],
             [
              0.6666666666666666,
              "#ed7953"
             ],
             [
              0.7777777777777778,
              "#fb9f3a"
             ],
             [
              0.8888888888888888,
              "#fdca26"
             ],
             [
              1,
              "#f0f921"
             ]
            ],
            "type": "heatmap"
           }
          ],
          "heatmapgl": [
           {
            "colorbar": {
             "outlinewidth": 0,
             "ticks": ""
            },
            "colorscale": [
             [
              0,
              "#0d0887"
             ],
             [
              0.1111111111111111,
              "#46039f"
             ],
             [
              0.2222222222222222,
              "#7201a8"
             ],
             [
              0.3333333333333333,
              "#9c179e"
             ],
             [
              0.4444444444444444,
              "#bd3786"
             ],
             [
              0.5555555555555556,
              "#d8576b"
             ],
             [
              0.6666666666666666,
              "#ed7953"
             ],
             [
              0.7777777777777778,
              "#fb9f3a"
             ],
             [
              0.8888888888888888,
              "#fdca26"
             ],
             [
              1,
              "#f0f921"
             ]
            ],
            "type": "heatmapgl"
           }
          ],
          "histogram": [
           {
            "marker": {
             "pattern": {
              "fillmode": "overlay",
              "size": 10,
              "solidity": 0.2
             }
            },
            "type": "histogram"
           }
          ],
          "histogram2d": [
           {
            "colorbar": {
             "outlinewidth": 0,
             "ticks": ""
            },
            "colorscale": [
             [
              0,
              "#0d0887"
             ],
             [
              0.1111111111111111,
              "#46039f"
             ],
             [
              0.2222222222222222,
              "#7201a8"
             ],
             [
              0.3333333333333333,
              "#9c179e"
             ],
             [
              0.4444444444444444,
              "#bd3786"
             ],
             [
              0.5555555555555556,
              "#d8576b"
             ],
             [
              0.6666666666666666,
              "#ed7953"
             ],
             [
              0.7777777777777778,
              "#fb9f3a"
             ],
             [
              0.8888888888888888,
              "#fdca26"
             ],
             [
              1,
              "#f0f921"
             ]
            ],
            "type": "histogram2d"
           }
          ],
          "histogram2dcontour": [
           {
            "colorbar": {
             "outlinewidth": 0,
             "ticks": ""
            },
            "colorscale": [
             [
              0,
              "#0d0887"
             ],
             [
              0.1111111111111111,
              "#46039f"
             ],
             [
              0.2222222222222222,
              "#7201a8"
             ],
             [
              0.3333333333333333,
              "#9c179e"
             ],
             [
              0.4444444444444444,
              "#bd3786"
             ],
             [
              0.5555555555555556,
              "#d8576b"
             ],
             [
              0.6666666666666666,
              "#ed7953"
             ],
             [
              0.7777777777777778,
              "#fb9f3a"
             ],
             [
              0.8888888888888888,
              "#fdca26"
             ],
             [
              1,
              "#f0f921"
             ]
            ],
            "type": "histogram2dcontour"
           }
          ],
          "mesh3d": [
           {
            "colorbar": {
             "outlinewidth": 0,
             "ticks": ""
            },
            "type": "mesh3d"
           }
          ],
          "parcoords": [
           {
            "line": {
             "colorbar": {
              "outlinewidth": 0,
              "ticks": ""
             }
            },
            "type": "parcoords"
           }
          ],
          "pie": [
           {
            "automargin": true,
            "type": "pie"
           }
          ],
          "scatter": [
           {
            "marker": {
             "colorbar": {
              "outlinewidth": 0,
              "ticks": ""
             }
            },
            "type": "scatter"
           }
          ],
          "scatter3d": [
           {
            "line": {
             "colorbar": {
              "outlinewidth": 0,
              "ticks": ""
             }
            },
            "marker": {
             "colorbar": {
              "outlinewidth": 0,
              "ticks": ""
             }
            },
            "type": "scatter3d"
           }
          ],
          "scattercarpet": [
           {
            "marker": {
             "colorbar": {
              "outlinewidth": 0,
              "ticks": ""
             }
            },
            "type": "scattercarpet"
           }
          ],
          "scattergeo": [
           {
            "marker": {
             "colorbar": {
              "outlinewidth": 0,
              "ticks": ""
             }
            },
            "type": "scattergeo"
           }
          ],
          "scattergl": [
           {
            "marker": {
             "colorbar": {
              "outlinewidth": 0,
              "ticks": ""
             }
            },
            "type": "scattergl"
           }
          ],
          "scattermapbox": [
           {
            "marker": {
             "colorbar": {
              "outlinewidth": 0,
              "ticks": ""
             }
            },
            "type": "scattermapbox"
           }
          ],
          "scatterpolar": [
           {
            "marker": {
             "colorbar": {
              "outlinewidth": 0,
              "ticks": ""
             }
            },
            "type": "scatterpolar"
           }
          ],
          "scatterpolargl": [
           {
            "marker": {
             "colorbar": {
              "outlinewidth": 0,
              "ticks": ""
             }
            },
            "type": "scatterpolargl"
           }
          ],
          "scatterternary": [
           {
            "marker": {
             "colorbar": {
              "outlinewidth": 0,
              "ticks": ""
             }
            },
            "type": "scatterternary"
           }
          ],
          "surface": [
           {
            "colorbar": {
             "outlinewidth": 0,
             "ticks": ""
            },
            "colorscale": [
             [
              0,
              "#0d0887"
             ],
             [
              0.1111111111111111,
              "#46039f"
             ],
             [
              0.2222222222222222,
              "#7201a8"
             ],
             [
              0.3333333333333333,
              "#9c179e"
             ],
             [
              0.4444444444444444,
              "#bd3786"
             ],
             [
              0.5555555555555556,
              "#d8576b"
             ],
             [
              0.6666666666666666,
              "#ed7953"
             ],
             [
              0.7777777777777778,
              "#fb9f3a"
             ],
             [
              0.8888888888888888,
              "#fdca26"
             ],
             [
              1,
              "#f0f921"
             ]
            ],
            "type": "surface"
           }
          ],
          "table": [
           {
            "cells": {
             "fill": {
              "color": "#EBF0F8"
             },
             "line": {
              "color": "white"
             }
            },
            "header": {
             "fill": {
              "color": "#C8D4E3"
             },
             "line": {
              "color": "white"
             }
            },
            "type": "table"
           }
          ]
         },
         "layout": {
          "annotationdefaults": {
           "arrowcolor": "#2a3f5f",
           "arrowhead": 0,
           "arrowwidth": 1
          },
          "autotypenumbers": "strict",
          "coloraxis": {
           "colorbar": {
            "outlinewidth": 0,
            "ticks": ""
           }
          },
          "colorscale": {
           "diverging": [
            [
             0,
             "#8e0152"
            ],
            [
             0.1,
             "#c51b7d"
            ],
            [
             0.2,
             "#de77ae"
            ],
            [
             0.3,
             "#f1b6da"
            ],
            [
             0.4,
             "#fde0ef"
            ],
            [
             0.5,
             "#f7f7f7"
            ],
            [
             0.6,
             "#e6f5d0"
            ],
            [
             0.7,
             "#b8e186"
            ],
            [
             0.8,
             "#7fbc41"
            ],
            [
             0.9,
             "#4d9221"
            ],
            [
             1,
             "#276419"
            ]
           ],
           "sequential": [
            [
             0,
             "#0d0887"
            ],
            [
             0.1111111111111111,
             "#46039f"
            ],
            [
             0.2222222222222222,
             "#7201a8"
            ],
            [
             0.3333333333333333,
             "#9c179e"
            ],
            [
             0.4444444444444444,
             "#bd3786"
            ],
            [
             0.5555555555555556,
             "#d8576b"
            ],
            [
             0.6666666666666666,
             "#ed7953"
            ],
            [
             0.7777777777777778,
             "#fb9f3a"
            ],
            [
             0.8888888888888888,
             "#fdca26"
            ],
            [
             1,
             "#f0f921"
            ]
           ],
           "sequentialminus": [
            [
             0,
             "#0d0887"
            ],
            [
             0.1111111111111111,
             "#46039f"
            ],
            [
             0.2222222222222222,
             "#7201a8"
            ],
            [
             0.3333333333333333,
             "#9c179e"
            ],
            [
             0.4444444444444444,
             "#bd3786"
            ],
            [
             0.5555555555555556,
             "#d8576b"
            ],
            [
             0.6666666666666666,
             "#ed7953"
            ],
            [
             0.7777777777777778,
             "#fb9f3a"
            ],
            [
             0.8888888888888888,
             "#fdca26"
            ],
            [
             1,
             "#f0f921"
            ]
           ]
          },
          "colorway": [
           "#636efa",
           "#EF553B",
           "#00cc96",
           "#ab63fa",
           "#FFA15A",
           "#19d3f3",
           "#FF6692",
           "#B6E880",
           "#FF97FF",
           "#FECB52"
          ],
          "font": {
           "color": "#2a3f5f"
          },
          "geo": {
           "bgcolor": "white",
           "lakecolor": "white",
           "landcolor": "#E5ECF6",
           "showlakes": true,
           "showland": true,
           "subunitcolor": "white"
          },
          "hoverlabel": {
           "align": "left"
          },
          "hovermode": "closest",
          "mapbox": {
           "style": "light"
          },
          "paper_bgcolor": "white",
          "plot_bgcolor": "#E5ECF6",
          "polar": {
           "angularaxis": {
            "gridcolor": "white",
            "linecolor": "white",
            "ticks": ""
           },
           "bgcolor": "#E5ECF6",
           "radialaxis": {
            "gridcolor": "white",
            "linecolor": "white",
            "ticks": ""
           }
          },
          "scene": {
           "xaxis": {
            "backgroundcolor": "#E5ECF6",
            "gridcolor": "white",
            "gridwidth": 2,
            "linecolor": "white",
            "showbackground": true,
            "ticks": "",
            "zerolinecolor": "white"
           },
           "yaxis": {
            "backgroundcolor": "#E5ECF6",
            "gridcolor": "white",
            "gridwidth": 2,
            "linecolor": "white",
            "showbackground": true,
            "ticks": "",
            "zerolinecolor": "white"
           },
           "zaxis": {
            "backgroundcolor": "#E5ECF6",
            "gridcolor": "white",
            "gridwidth": 2,
            "linecolor": "white",
            "showbackground": true,
            "ticks": "",
            "zerolinecolor": "white"
           }
          },
          "shapedefaults": {
           "line": {
            "color": "#2a3f5f"
           }
          },
          "ternary": {
           "aaxis": {
            "gridcolor": "white",
            "linecolor": "white",
            "ticks": ""
           },
           "baxis": {
            "gridcolor": "white",
            "linecolor": "white",
            "ticks": ""
           },
           "bgcolor": "#E5ECF6",
           "caxis": {
            "gridcolor": "white",
            "linecolor": "white",
            "ticks": ""
           }
          },
          "title": {
           "x": 0.05
          },
          "xaxis": {
           "automargin": true,
           "gridcolor": "white",
           "linecolor": "white",
           "ticks": "",
           "title": {
            "standoff": 15
           },
           "zerolinecolor": "white",
           "zerolinewidth": 2
          },
          "yaxis": {
           "automargin": true,
           "gridcolor": "white",
           "linecolor": "white",
           "ticks": "",
           "title": {
            "standoff": 15
           },
           "zerolinecolor": "white",
           "zerolinewidth": 2
          }
         }
        },
        "width": 400,
        "xaxis": {
         "anchor": "y",
         "constrain": "domain",
         "domain": [
          0,
          1
         ],
         "scaleanchor": "y",
         "showticklabels": false,
         "side": "top"
        },
        "yaxis": {
         "anchor": "x",
         "autorange": "reversed",
         "constrain": "domain",
         "domain": [
          0,
          1
         ],
         "showticklabels": false,
         "title": {
          "text": "title_stripped"
         }
        }
       }
      },
      "text/html": [
       "<div>                            <div id=\"285b99e5-56cb-483e-a542-2ebe122acb3e\" class=\"plotly-graph-div\" style=\"height:400px; width:400px;\"></div>            <script type=\"text/javascript\">                require([\"plotly\"], function(Plotly) {                    window.PLOTLYENV=window.PLOTLYENV || {};                                    if (document.getElementById(\"285b99e5-56cb-483e-a542-2ebe122acb3e\")) {                    Plotly.newPlot(                        \"285b99e5-56cb-483e-a542-2ebe122acb3e\",                        [{\"coloraxis\":\"coloraxis\",\"name\":\"0\",\"x\":[\"disk free space: f:\",\"disk free space: g:\",\"alwayson replica is not in the primary or secondary role - custom\",\"bss-des-sql07\\\\bsserp  availability group [alwayson replica is not in the primary or secondary]\",\"bss-dep-sql07\\\\bsserp alwayson replica is not in the primary or secondary role - custom\",\"ldsqlmid01.rimes.dir disk free space: f:\",\"disk free space: cluster disk 16_k:\",\"alwayson replica is not in the primary or secondary role on  publicsqlf\",\"ldsqlmid01.rimes.dir alwayson replica is not in the primary or secondary role - custom\"],\"y\":[\"disk free space: f:\",\"disk free space: g:\",\"alwayson replica is not in the primary or secondary role - custom\",\"bss-des-sql07\\\\bsserp  availability group [alwayson replica is not in the primary or secondary]\",\"bss-dep-sql07\\\\bsserp alwayson replica is not in the primary or secondary role - custom\",\"ldsqlmid01.rimes.dir disk free space: f:\",\"disk free space: cluster disk 16_k:\",\"alwayson replica is not in the primary or secondary role on  publicsqlf\",\"ldsqlmid01.rimes.dir alwayson replica is not in the primary or secondary role - custom\"],\"z\":[[1.0,0.9473684210526315,0.19047619047619047,0.1415929203539823,0.17142857142857143,0.6440677966101694,0.6666666666666666,0.2,0.20952380952380953],[0.9473684210526315,1.0,0.19047619047619047,0.1415929203539823,0.17142857142857143,0.6101694915254238,0.6666666666666666,0.17777777777777778,0.20952380952380953],[0.21428571428571427,0.21428571428571427,1.0,0.6415094339622641,0.8609271523178808,0.26666666666666666,0.28,0.8823529411764706,0.8609271523178808],[0.1592920353982301,0.08849557522123894,0.6415094339622641,1.0,0.7888888888888889,0.19402985074626866,0.15503875968992248,0.6181818181818182,0.6555555555555556],[0.17142857142857143,0.17142857142857143,0.8609271523178808,0.7888888888888889,1.0,0.23809523809523808,0.23140495867768596,0.7643312101910829,0.8488372093023255],[0.6440677966101694,0.6101694915254238,0.2857142857142857,0.1791044776119403,0.25396825396825395,1.0,0.48,0.10810810810810811,0.4603174603174603],[0.6666666666666666,0.6666666666666666,0.26,0.18604651162790697,0.23140495867768596,0.48,1.0,0.24528301886792453,0.2644628099173554],[0.2222222222222222,0.2,0.8529411764705882,0.6181818181818182,0.7388535031847133,0.2702702702702703,0.18867924528301888,1.0,0.7388535031847133],[0.19047619047619047,0.19047619047619047,0.8609271523178808,0.6444444444444445,0.8372093023255814,0.47619047619047616,0.24793388429752067,0.7643312101910829,1.0]],\"type\":\"heatmap\",\"xaxis\":\"x\",\"yaxis\":\"y\",\"hovertemplate\":\"x: %{x}<br>title_stripped: %{y}<br>color: %{z}<extra></extra>\"}],                        {\"template\":{\"data\":{\"bar\":[{\"error_x\":{\"color\":\"#2a3f5f\"},\"error_y\":{\"color\":\"#2a3f5f\"},\"marker\":{\"line\":{\"color\":\"#E5ECF6\",\"width\":0.5},\"pattern\":{\"fillmode\":\"overlay\",\"size\":10,\"solidity\":0.2}},\"type\":\"bar\"}],\"barpolar\":[{\"marker\":{\"line\":{\"color\":\"#E5ECF6\",\"width\":0.5},\"pattern\":{\"fillmode\":\"overlay\",\"size\":10,\"solidity\":0.2}},\"type\":\"barpolar\"}],\"carpet\":[{\"aaxis\":{\"endlinecolor\":\"#2a3f5f\",\"gridcolor\":\"white\",\"linecolor\":\"white\",\"minorgridcolor\":\"white\",\"startlinecolor\":\"#2a3f5f\"},\"baxis\":{\"endlinecolor\":\"#2a3f5f\",\"gridcolor\":\"white\",\"linecolor\":\"white\",\"minorgridcolor\":\"white\",\"startlinecolor\":\"#2a3f5f\"},\"type\":\"carpet\"}],\"choropleth\":[{\"colorbar\":{\"outlinewidth\":0,\"ticks\":\"\"},\"type\":\"choropleth\"}],\"contour\":[{\"colorbar\":{\"outlinewidth\":0,\"ticks\":\"\"},\"colorscale\":[[0.0,\"#0d0887\"],[0.1111111111111111,\"#46039f\"],[0.2222222222222222,\"#7201a8\"],[0.3333333333333333,\"#9c179e\"],[0.4444444444444444,\"#bd3786\"],[0.5555555555555556,\"#d8576b\"],[0.6666666666666666,\"#ed7953\"],[0.7777777777777778,\"#fb9f3a\"],[0.8888888888888888,\"#fdca26\"],[1.0,\"#f0f921\"]],\"type\":\"contour\"}],\"contourcarpet\":[{\"colorbar\":{\"outlinewidth\":0,\"ticks\":\"\"},\"type\":\"contourcarpet\"}],\"heatmap\":[{\"colorbar\":{\"outlinewidth\":0,\"ticks\":\"\"},\"colorscale\":[[0.0,\"#0d0887\"],[0.1111111111111111,\"#46039f\"],[0.2222222222222222,\"#7201a8\"],[0.3333333333333333,\"#9c179e\"],[0.4444444444444444,\"#bd3786\"],[0.5555555555555556,\"#d8576b\"],[0.6666666666666666,\"#ed7953\"],[0.7777777777777778,\"#fb9f3a\"],[0.8888888888888888,\"#fdca26\"],[1.0,\"#f0f921\"]],\"type\":\"heatmap\"}],\"heatmapgl\":[{\"colorbar\":{\"outlinewidth\":0,\"ticks\":\"\"},\"colorscale\":[[0.0,\"#0d0887\"],[0.1111111111111111,\"#46039f\"],[0.2222222222222222,\"#7201a8\"],[0.3333333333333333,\"#9c179e\"],[0.4444444444444444,\"#bd3786\"],[0.5555555555555556,\"#d8576b\"],[0.6666666666666666,\"#ed7953\"],[0.7777777777777778,\"#fb9f3a\"],[0.8888888888888888,\"#fdca26\"],[1.0,\"#f0f921\"]],\"type\":\"heatmapgl\"}],\"histogram\":[{\"marker\":{\"pattern\":{\"fillmode\":\"overlay\",\"size\":10,\"solidity\":0.2}},\"type\":\"histogram\"}],\"histogram2d\":[{\"colorbar\":{\"outlinewidth\":0,\"ticks\":\"\"},\"colorscale\":[[0.0,\"#0d0887\"],[0.1111111111111111,\"#46039f\"],[0.2222222222222222,\"#7201a8\"],[0.3333333333333333,\"#9c179e\"],[0.4444444444444444,\"#bd3786\"],[0.5555555555555556,\"#d8576b\"],[0.6666666666666666,\"#ed7953\"],[0.7777777777777778,\"#fb9f3a\"],[0.8888888888888888,\"#fdca26\"],[1.0,\"#f0f921\"]],\"type\":\"histogram2d\"}],\"histogram2dcontour\":[{\"colorbar\":{\"outlinewidth\":0,\"ticks\":\"\"},\"colorscale\":[[0.0,\"#0d0887\"],[0.1111111111111111,\"#46039f\"],[0.2222222222222222,\"#7201a8\"],[0.3333333333333333,\"#9c179e\"],[0.4444444444444444,\"#bd3786\"],[0.5555555555555556,\"#d8576b\"],[0.6666666666666666,\"#ed7953\"],[0.7777777777777778,\"#fb9f3a\"],[0.8888888888888888,\"#fdca26\"],[1.0,\"#f0f921\"]],\"type\":\"histogram2dcontour\"}],\"mesh3d\":[{\"colorbar\":{\"outlinewidth\":0,\"ticks\":\"\"},\"type\":\"mesh3d\"}],\"parcoords\":[{\"line\":{\"colorbar\":{\"outlinewidth\":0,\"ticks\":\"\"}},\"type\":\"parcoords\"}],\"pie\":[{\"automargin\":true,\"type\":\"pie\"}],\"scatter\":[{\"marker\":{\"colorbar\":{\"outlinewidth\":0,\"ticks\":\"\"}},\"type\":\"scatter\"}],\"scatter3d\":[{\"line\":{\"colorbar\":{\"outlinewidth\":0,\"ticks\":\"\"}},\"marker\":{\"colorbar\":{\"outlinewidth\":0,\"ticks\":\"\"}},\"type\":\"scatter3d\"}],\"scattercarpet\":[{\"marker\":{\"colorbar\":{\"outlinewidth\":0,\"ticks\":\"\"}},\"type\":\"scattercarpet\"}],\"scattergeo\":[{\"marker\":{\"colorbar\":{\"outlinewidth\":0,\"ticks\":\"\"}},\"type\":\"scattergeo\"}],\"scattergl\":[{\"marker\":{\"colorbar\":{\"outlinewidth\":0,\"ticks\":\"\"}},\"type\":\"scattergl\"}],\"scattermapbox\":[{\"marker\":{\"colorbar\":{\"outlinewidth\":0,\"ticks\":\"\"}},\"type\":\"scattermapbox\"}],\"scatterpolar\":[{\"marker\":{\"colorbar\":{\"outlinewidth\":0,\"ticks\":\"\"}},\"type\":\"scatterpolar\"}],\"scatterpolargl\":[{\"marker\":{\"colorbar\":{\"outlinewidth\":0,\"ticks\":\"\"}},\"type\":\"scatterpolargl\"}],\"scatterternary\":[{\"marker\":{\"colorbar\":{\"outlinewidth\":0,\"ticks\":\"\"}},\"type\":\"scatterternary\"}],\"surface\":[{\"colorbar\":{\"outlinewidth\":0,\"ticks\":\"\"},\"colorscale\":[[0.0,\"#0d0887\"],[0.1111111111111111,\"#46039f\"],[0.2222222222222222,\"#7201a8\"],[0.3333333333333333,\"#9c179e\"],[0.4444444444444444,\"#bd3786\"],[0.5555555555555556,\"#d8576b\"],[0.6666666666666666,\"#ed7953\"],[0.7777777777777778,\"#fb9f3a\"],[0.8888888888888888,\"#fdca26\"],[1.0,\"#f0f921\"]],\"type\":\"surface\"}],\"table\":[{\"cells\":{\"fill\":{\"color\":\"#EBF0F8\"},\"line\":{\"color\":\"white\"}},\"header\":{\"fill\":{\"color\":\"#C8D4E3\"},\"line\":{\"color\":\"white\"}},\"type\":\"table\"}]},\"layout\":{\"annotationdefaults\":{\"arrowcolor\":\"#2a3f5f\",\"arrowhead\":0,\"arrowwidth\":1},\"autotypenumbers\":\"strict\",\"coloraxis\":{\"colorbar\":{\"outlinewidth\":0,\"ticks\":\"\"}},\"colorscale\":{\"diverging\":[[0,\"#8e0152\"],[0.1,\"#c51b7d\"],[0.2,\"#de77ae\"],[0.3,\"#f1b6da\"],[0.4,\"#fde0ef\"],[0.5,\"#f7f7f7\"],[0.6,\"#e6f5d0\"],[0.7,\"#b8e186\"],[0.8,\"#7fbc41\"],[0.9,\"#4d9221\"],[1,\"#276419\"]],\"sequential\":[[0.0,\"#0d0887\"],[0.1111111111111111,\"#46039f\"],[0.2222222222222222,\"#7201a8\"],[0.3333333333333333,\"#9c179e\"],[0.4444444444444444,\"#bd3786\"],[0.5555555555555556,\"#d8576b\"],[0.6666666666666666,\"#ed7953\"],[0.7777777777777778,\"#fb9f3a\"],[0.8888888888888888,\"#fdca26\"],[1.0,\"#f0f921\"]],\"sequentialminus\":[[0.0,\"#0d0887\"],[0.1111111111111111,\"#46039f\"],[0.2222222222222222,\"#7201a8\"],[0.3333333333333333,\"#9c179e\"],[0.4444444444444444,\"#bd3786\"],[0.5555555555555556,\"#d8576b\"],[0.6666666666666666,\"#ed7953\"],[0.7777777777777778,\"#fb9f3a\"],[0.8888888888888888,\"#fdca26\"],[1.0,\"#f0f921\"]]},\"colorway\":[\"#636efa\",\"#EF553B\",\"#00cc96\",\"#ab63fa\",\"#FFA15A\",\"#19d3f3\",\"#FF6692\",\"#B6E880\",\"#FF97FF\",\"#FECB52\"],\"font\":{\"color\":\"#2a3f5f\"},\"geo\":{\"bgcolor\":\"white\",\"lakecolor\":\"white\",\"landcolor\":\"#E5ECF6\",\"showlakes\":true,\"showland\":true,\"subunitcolor\":\"white\"},\"hoverlabel\":{\"align\":\"left\"},\"hovermode\":\"closest\",\"mapbox\":{\"style\":\"light\"},\"paper_bgcolor\":\"white\",\"plot_bgcolor\":\"#E5ECF6\",\"polar\":{\"angularaxis\":{\"gridcolor\":\"white\",\"linecolor\":\"white\",\"ticks\":\"\"},\"bgcolor\":\"#E5ECF6\",\"radialaxis\":{\"gridcolor\":\"white\",\"linecolor\":\"white\",\"ticks\":\"\"}},\"scene\":{\"xaxis\":{\"backgroundcolor\":\"#E5ECF6\",\"gridcolor\":\"white\",\"gridwidth\":2,\"linecolor\":\"white\",\"showbackground\":true,\"ticks\":\"\",\"zerolinecolor\":\"white\"},\"yaxis\":{\"backgroundcolor\":\"#E5ECF6\",\"gridcolor\":\"white\",\"gridwidth\":2,\"linecolor\":\"white\",\"showbackground\":true,\"ticks\":\"\",\"zerolinecolor\":\"white\"},\"zaxis\":{\"backgroundcolor\":\"#E5ECF6\",\"gridcolor\":\"white\",\"gridwidth\":2,\"linecolor\":\"white\",\"showbackground\":true,\"ticks\":\"\",\"zerolinecolor\":\"white\"}},\"shapedefaults\":{\"line\":{\"color\":\"#2a3f5f\"}},\"ternary\":{\"aaxis\":{\"gridcolor\":\"white\",\"linecolor\":\"white\",\"ticks\":\"\"},\"baxis\":{\"gridcolor\":\"white\",\"linecolor\":\"white\",\"ticks\":\"\"},\"bgcolor\":\"#E5ECF6\",\"caxis\":{\"gridcolor\":\"white\",\"linecolor\":\"white\",\"ticks\":\"\"}},\"title\":{\"x\":0.05},\"xaxis\":{\"automargin\":true,\"gridcolor\":\"white\",\"linecolor\":\"white\",\"ticks\":\"\",\"title\":{\"standoff\":15},\"zerolinecolor\":\"white\",\"zerolinewidth\":2},\"yaxis\":{\"automargin\":true,\"gridcolor\":\"white\",\"linecolor\":\"white\",\"ticks\":\"\",\"title\":{\"standoff\":15},\"zerolinecolor\":\"white\",\"zerolinewidth\":2}}},\"xaxis\":{\"anchor\":\"y\",\"domain\":[0.0,1.0],\"scaleanchor\":\"y\",\"constrain\":\"domain\",\"side\":\"top\",\"showticklabels\":false},\"yaxis\":{\"anchor\":\"x\",\"domain\":[0.0,1.0],\"autorange\":\"reversed\",\"constrain\":\"domain\",\"title\":{\"text\":\"title_stripped\"},\"showticklabels\":false},\"coloraxis\":{\"colorscale\":[[0.0,\"#0d0887\"],[0.1111111111111111,\"#46039f\"],[0.2222222222222222,\"#7201a8\"],[0.3333333333333333,\"#9c179e\"],[0.4444444444444444,\"#bd3786\"],[0.5555555555555556,\"#d8576b\"],[0.6666666666666666,\"#ed7953\"],[0.7777777777777778,\"#fb9f3a\"],[0.8888888888888888,\"#fdca26\"],[1.0,\"#f0f921\"]]},\"margin\":{\"t\":10,\"l\":10,\"r\":10,\"b\":10},\"width\":400,\"height\":400},                        {\"responsive\": true}                    ).then(function(){\n",
       "                            \n",
       "var gd = document.getElementById('285b99e5-56cb-483e-a542-2ebe122acb3e');\n",
       "var x = new MutationObserver(function (mutations, observer) {{\n",
       "        var display = window.getComputedStyle(gd).display;\n",
       "        if (!display || display === 'none') {{\n",
       "            console.log([gd, 'removed!']);\n",
       "            Plotly.purge(gd);\n",
       "            observer.disconnect();\n",
       "        }}\n",
       "}});\n",
       "\n",
       "// Listen for the removal of the full notebook cells\n",
       "var notebookContainer = gd.closest('#notebook-container');\n",
       "if (notebookContainer) {{\n",
       "    x.observe(notebookContainer, {childList: true});\n",
       "}}\n",
       "\n",
       "// Listen for the clearing of the current output cell\n",
       "var outputEl = gd.closest('.output');\n",
       "if (outputEl) {{\n",
       "    x.observe(outputEl, {childList: true});\n",
       "}}\n",
       "\n",
       "                        })                };                });            </script>        </div>"
      ]
     },
     "metadata": {},
     "output_type": "display_data"
    },
    {
     "name": "stdout",
     "output_type": "stream",
     "text": [
      "[0, 1, 2, 3, 4, 5, 6, 7, 8]\n"
     ]
    }
   ],
   "source": [
    "fig = px.imshow(common_titles_matrix)\n",
    "fig.update_xaxes(side=\"top\")\n",
    "fig.update_layout(width=400, height=400, margin=dict(l=10, r=10, b=10, t=10))\n",
    "fig.update_xaxes(showticklabels=False).update_yaxes(showticklabels=False)\n",
    "fig.show()\n",
    "print(list(range(common_titles_matrix.shape[0])))"
   ]
  },
  {
   "cell_type": "code",
   "execution_count": 17,
   "id": "5e107692",
   "metadata": {},
   "outputs": [
    {
     "data": {
      "text/plain": [
       "[['alwayson replica is not in the primary or secondary role - custom',\n",
       "  'alwayson replica is not in the primary or secondary role on  publicsqlf'],\n",
       " ['alwayson replica is not in the primary or secondary role - custom',\n",
       "  'bss-dep-sql07\\\\bsserp alwayson replica is not in the primary or secondary role - custom'],\n",
       " ['alwayson replica is not in the primary or secondary role - custom',\n",
       "  'ldsqlmid01.rimes.dir alwayson replica is not in the primary or secondary role - custom'],\n",
       " ['bss-dep-sql07\\\\bsserp alwayson replica is not in the primary or secondary role - custom',\n",
       "  'ldsqlmid01.rimes.dir alwayson replica is not in the primary or secondary role - custom'],\n",
       " ['disk free space: f:', 'disk free space: g:']]"
      ]
     },
     "execution_count": 17,
     "metadata": {},
     "output_type": "execute_result"
    }
   ],
   "source": [
    "# Concatenate/cluster stripped titles\n",
    "columns = list(common_titles_matrix.columns)\n",
    "\n",
    "sub = []\n",
    "for row, ind in common_titles_matrix.iterrows():\n",
    "    for pos, col in enumerate(columns):\n",
    "        if ind[col] < 1 and ind[col] > 0.8:\n",
    "            sub.append([row,columns[pos]])\n",
    "            \n",
    "sub2 = []\n",
    "for i in sub:\n",
    "    sub2.append(sorted(i))\n",
    "sub2.sort()\n",
    "\n",
    "sub3 = list(sub2 for sub2,_ in itertools.groupby(sub2))\n",
    "sub3"
   ]
  },
  {
   "cell_type": "code",
   "execution_count": 25,
   "id": "1e4a19ee",
   "metadata": {},
   "outputs": [
    {
     "name": "stdout",
     "output_type": "stream",
     "text": [
      "['alwayson replica is not in the primary or secondary role',\n",
      " 'alwayson replica is not in the primary or secondary role - custom',\n",
      " 'disk free space:']\n"
     ]
    }
   ],
   "source": [
    "from pprint import pprint\n",
    "# https://stackoverflow.com/questions/38862657/find-value-greater-than-level-python-pandas\n",
    "def long_substr(data):\n",
    "    substrs = lambda x: {x[i:i+j] for i in range(len(x)) for j in range(len(x) - i + 1)}\n",
    "    s = substrs(data[0])\n",
    "    for val in data[1:]:\n",
    "        s.intersection_update(substrs(val))\n",
    "    return max(s, key=len)\n",
    "\n",
    "sub4 = []\n",
    "for i in sub3:\n",
    "    sub4.append(long_substr(i))\n",
    "sub4 = [i.strip() for i in sub4]\n",
    "\n",
    "sub4 = list(set(sub4))\n",
    "pprint(sub4)"
   ]
  },
  {
   "cell_type": "code",
   "execution_count": 19,
   "id": "8f017e83",
   "metadata": {},
   "outputs": [
    {
     "name": "stdout",
     "output_type": "stream",
     "text": [
      "alwayson replica is not in the primary or secondary role\n",
      "6\n",
      "9\n",
      "\n",
      "alwayson replica is not in the primary or secondary role - custom\n",
      "6\n",
      "8\n",
      "\n",
      "disk free space:\n",
      "5\n",
      "5\n",
      "\n"
     ]
    }
   ],
   "source": [
    "def ratios(title):\n",
    "    df3 = df2[df2['title_stripped'].str.contains(title)][['type','title']].groupby('type').count()\n",
    "    df3.rename(columns={'title':'count'},inplace=True)\n",
    "    return df3\n",
    "\n",
    "sub4 = [i.strip() for i in sub4]\n",
    "\n",
    "sub4 = list(set(sub4))\n",
    "\n",
    "for i in sub4:\n",
    "    print(i)\n",
    "    df4 = ratios(i)\n",
    "    print(df4['count'].max())\n",
    "    print(df4['count'].sum())\n",
    "    print()"
   ]
  },
  {
   "cell_type": "code",
   "execution_count": 20,
   "id": "d88b6eec",
   "metadata": {},
   "outputs": [
    {
     "name": "stdout",
     "output_type": "stream",
     "text": [
      "\n",
      "compare: alwayson replica is not in the primary or secondary role\n",
      "alwayson replica is not in the primary or secondary role\n",
      "1.0\n",
      "alwayson replica is not in the primary or secondary role - custom\n",
      "0.9256198347107438\n",
      "disk free space:\n",
      "0.2222222222222222\n",
      "\n",
      "compare: alwayson replica is not in the primary or secondary role - custom\n",
      "alwayson replica is not in the primary or secondary role\n",
      "0.9256198347107438\n",
      "alwayson replica is not in the primary or secondary role - custom\n",
      "1.0\n",
      "disk free space:\n",
      "0.19753086419753085\n",
      "\n",
      "compare: disk free space:\n",
      "alwayson replica is not in the primary or secondary role\n",
      "0.25\n",
      "alwayson replica is not in the primary or secondary role - custom\n",
      "0.2222222222222222\n",
      "disk free space:\n",
      "1.0\n"
     ]
    },
    {
     "data": {
      "text/html": [
       "<div>\n",
       "<style scoped>\n",
       "    .dataframe tbody tr th:only-of-type {\n",
       "        vertical-align: middle;\n",
       "    }\n",
       "\n",
       "    .dataframe tbody tr th {\n",
       "        vertical-align: top;\n",
       "    }\n",
       "\n",
       "    .dataframe thead th {\n",
       "        text-align: right;\n",
       "    }\n",
       "</style>\n",
       "<table border=\"1\" class=\"dataframe\">\n",
       "  <thead>\n",
       "    <tr style=\"text-align: right;\">\n",
       "      <th></th>\n",
       "      <th>0</th>\n",
       "      <th>alwayson replica is not in the primary or secondary role</th>\n",
       "      <th>alwayson replica is not in the primary or secondary role - custom</th>\n",
       "      <th>disk free space:</th>\n",
       "    </tr>\n",
       "  </thead>\n",
       "  <tbody>\n",
       "    <tr>\n",
       "      <th>0</th>\n",
       "      <td>alwayson replica is not in the primary or seco...</td>\n",
       "      <td>0.222222</td>\n",
       "      <td>0.197531</td>\n",
       "      <td>1.0</td>\n",
       "    </tr>\n",
       "    <tr>\n",
       "      <th>1</th>\n",
       "      <td>alwayson replica is not in the primary or seco...</td>\n",
       "      <td>0.222222</td>\n",
       "      <td>0.197531</td>\n",
       "      <td>1.0</td>\n",
       "    </tr>\n",
       "    <tr>\n",
       "      <th>2</th>\n",
       "      <td>disk free space:</td>\n",
       "      <td>0.222222</td>\n",
       "      <td>0.197531</td>\n",
       "      <td>1.0</td>\n",
       "    </tr>\n",
       "  </tbody>\n",
       "</table>\n",
       "</div>"
      ],
      "text/plain": [
       "                                                   0  \\\n",
       "0  alwayson replica is not in the primary or seco...   \n",
       "1  alwayson replica is not in the primary or seco...   \n",
       "2                                   disk free space:   \n",
       "\n",
       "   alwayson replica is not in the primary or secondary role  \\\n",
       "0                                           0.222222          \n",
       "1                                           0.222222          \n",
       "2                                           0.222222          \n",
       "\n",
       "   alwayson replica is not in the primary or secondary role - custom  \\\n",
       "0                                           0.197531                   \n",
       "1                                           0.197531                   \n",
       "2                                           0.197531                   \n",
       "\n",
       "   disk free space:  \n",
       "0               1.0  \n",
       "1               1.0  \n",
       "2               1.0  "
      ]
     },
     "execution_count": 20,
     "metadata": {},
     "output_type": "execute_result"
    }
   ],
   "source": [
    "# Heatmap to show\n",
    "# group cols - we want a linkage between related stripped titles.\n",
    "# def relation_matrix(titles):\n",
    "\n",
    "titles = sub4\n",
    "df_x = pd.DataFrame(titles)\n",
    "\n",
    "for i in titles:\n",
    "    print()    \n",
    "    print('compare:',i)\n",
    "    for j in titles:\n",
    "        print(j)\n",
    "    # common_titles_matrix[str(value)] = common_titles_matrix['title_stripped'].apply(lambda x: similar(x,value))\n",
    "        df_x[str(i)] = similar(j,i)\n",
    "        print(similar(j,i))\n",
    "    \n",
    "    \n",
    "df_x\n"
   ]
  },
  {
   "cell_type": "code",
   "execution_count": null,
   "id": "c425a4af",
   "metadata": {},
   "outputs": [],
   "source": [
    "# Apply tag for max(similarity_col)"
   ]
  }
 ],
 "metadata": {
  "kernelspec": {
   "display_name": "Python 3",
   "language": "python",
   "name": "python3"
  },
  "language_info": {
   "codemirror_mode": {
    "name": "ipython",
    "version": 3
   },
   "file_extension": ".py",
   "mimetype": "text/x-python",
   "name": "python",
   "nbconvert_exporter": "python",
   "pygments_lexer": "ipython3",
   "version": "3.9.9"
  }
 },
 "nbformat": 4,
 "nbformat_minor": 5
}

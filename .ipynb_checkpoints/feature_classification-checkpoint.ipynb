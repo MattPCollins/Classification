{
 "cells": [
  {
   "cell_type": "code",
   "execution_count": 21,
   "id": "official-drain",
   "metadata": {},
   "outputs": [],
   "source": [
    "import pandas as pd\n",
    "import numpy as np\n",
    "from difflib import SequenceMatcher\n",
    "import itertools\n",
    "import re\n",
    "import plotly.express as px\n",
    "from pprint import pprint\n",
    "pd.options.mode.chained_assignment = None  # default='warn'\n",
    "%matplotlib inline"
   ]
  },
  {
   "cell_type": "code",
   "execution_count": 22,
   "id": "optical-solid",
   "metadata": {},
   "outputs": [],
   "source": [
    "# Some pre-processing required to help with this generalisation process, and we were able to identify \"limited\" and \n",
    "# \"ltd\" in various titles upon a quick inspection. \n",
    "# For this example we've not processed titles with \"UK\" to give the function more to do(??????)\n",
    "titles_raw = [\n",
    "\"BT\",\n",
    "\"Sky\",\n",
    "\"Sky UK\",\n",
    "\"Sky uk ltd\",\n",
    "\"Sky uk limited\",\n",
    "\"Virgin\",\n",
    "\"Virgin Media\",\n",
    "\"Vodaphone\",\n",
    "\"vodaphone uk\",\n",
    "\"talk talk\",\n",
    "\"BT\",\n",
    "\"Sky\",\n",
    "\"Sky UK\",\n",
    "\"Sky uk ltd\",\n",
    "\"Sky uk limited\",\n",
    "\"Virgin\",\n",
    "\"Virgin Media\",\n",
    "\"Vodaphone\",\n",
    "\"vodaphone uk\",\n",
    "\"TalkTalk\",\n",
    "\"talk talk\",\n",
    "\"BT\",\n",
    "\"Sky\",\n",
    "\"Sky UK\",\n",
    "\"Sky uk limited\",\n",
    "\"Virgin\",\n",
    "\"Virgin Media\",\n",
    "\"Vodaphone\",\n",
    "\"vodaphone uk\",\n",
    "\"TalkTalk\",\n",
    "]\n",
    "ratings = [5,4,3,2,1, 1,3,3,4,5, 5,4,4,2,2, 4,3,3,2,4, 3.5,2.5,1,4,4, 4,3,4,3,5]\n",
    "years = [3,2,3,2,5, 5,4,3,5,5, 4,1,0,1,4, 1,2,3,3,3, 2,2,2,3,1, 2,1,2,7,0]\n",
    "month_cost = [30,35,25,33,21, 32,31,27,33,22, 28,29,26,31,24, 29,35,27,29,21, 27,28,30,25,29, 28,23,28,29,24]\n",
    "df_broadband = pd.DataFrame()\n",
    "df_broadband['broadband'] = [i.lower() for i in titles_raw]\n",
    "df_broadband['ratings'] = ratings\n",
    "df_broadband['years'] = years\n",
    "df_broadband['month_cost'] = month_cost\n"
   ]
  },
  {
   "cell_type": "code",
   "execution_count": 23,
   "id": "functional-newsletter",
   "metadata": {},
   "outputs": [],
   "source": [
    "# Lightweight preprocessing\n",
    "titles = [i.lower().replace(\"ltd\",\"\").replace(\"limited\",\"\").strip() for i in titles_raw]\n",
    "titles = list(set(titles))"
   ]
  },
  {
   "cell_type": "code",
   "execution_count": 24,
   "id": "obvious-thirty",
   "metadata": {},
   "outputs": [
    {
     "name": "stdout",
     "output_type": "stream",
     "text": [
      "['BT', 'Sky', 'Sky UK', 'Sky uk ltd', 'Sky uk limited', 'Virgin', 'Virgin Media', 'Vodaphone', 'vodaphone uk', 'talk talk', 'BT', 'Sky', 'Sky UK', 'Sky uk ltd', 'Sky uk limited', 'Virgin', 'Virgin Media', 'Vodaphone', 'vodaphone uk', 'TalkTalk', 'talk talk', 'BT', 'Sky', 'Sky UK', 'Sky uk limited', 'Virgin', 'Virgin Media', 'Vodaphone', 'vodaphone uk', 'TalkTalk']\n",
      "\n",
      "['sky uk', 'talktalk', 'vodaphone uk', 'bt', 'vodaphone', 'virgin', 'sky', 'virgin media', 'talk talk']\n"
     ]
    }
   ],
   "source": [
    "print(titles_raw)\n",
    "print()\n",
    "print(titles)"
   ]
  },
  {
   "cell_type": "code",
   "execution_count": 25,
   "id": "painted-freedom",
   "metadata": {},
   "outputs": [],
   "source": [
    "# Use SequenceMatcher function to calculate string similarity\n",
    "def similar(a, b):\n",
    "    return SequenceMatcher(None, a, b).ratio()\n",
    "\n",
    "\n",
    "# Create correlecation matrix figure\n",
    "def correlation_matrix(titles):\n",
    "    df_list = []\n",
    "    for i in titles:\n",
    "        row = [i]\n",
    "        for j in titles:\n",
    "            row.append(similar(j,i))\n",
    "        df_list.append(row)\n",
    "\n",
    "    df_x = pd.DataFrame(df_list, columns = ['title'] + titles)\n",
    "    df_x.set_index('title', inplace=True)\n",
    "\n",
    "    fig = px.imshow(df_x)\n",
    "    fig.update_xaxes(showticklabels=False).update_yaxes(showticklabels=False)\n",
    "    return df_x, fig\n"
   ]
  },
  {
   "cell_type": "code",
   "execution_count": 26,
   "id": "rental-modification",
   "metadata": {},
   "outputs": [],
   "source": [
    "# Apply grouping and return \"stripped down\" version of titles using the common values identified in the similarity check\n",
    "def group_similar(df,percent):\n",
    "    s = np.where(df.gt(percent,0), [i for i in df.columns], '')\n",
    "    similar_lists = pd.Series([list(filter(None, i)) for i in s])\n",
    "    \n",
    "    groups = []\n",
    "    for i in similar_lists:\n",
    "        groups.append(list(set(i)))\n",
    "    groups.sort()\n",
    "    groups = list(groups for groups,_ in itertools.groupby(groups))\n",
    "    \n",
    "    remove_ = [group for group in groups if len(group) == 1]\n",
    "    for i in remove_:\n",
    "        groups.remove(i)\n",
    "\n",
    "    # https://stackoverflow.com/questions/38862657/find-value-greater-than-level-python-pandas\n",
    "    # Add comment on this function found online\n",
    "    def long_substr(data):\n",
    "        substrs = lambda x: {x[i:i+j] for i in range(len(x)) for j in range(len(x) - i + 1)}\n",
    "        s = substrs(data[0])\n",
    "        for val in data[1:]:\n",
    "            s.intersection_update(substrs(val))\n",
    "        return max(s, key=len)\n",
    "\n",
    "    stripped = []\n",
    "    for i in groups:\n",
    "        stripped.append(long_substr(i))\n",
    "    stripped = [i.strip() for i in stripped]\n",
    "    stripped = list(set(stripped))\n",
    "    \n",
    "    # Add removed titles back in\n",
    "    removed = [i[0] for i in remove_]\n",
    "    titles_stripped = [*removed, *stripped]\n",
    "    titles_stripped = list(set(titles_stripped))    \n",
    "    return titles_stripped\n",
    "    "
   ]
  },
  {
   "cell_type": "code",
   "execution_count": 27,
   "id": "exotic-gamma",
   "metadata": {},
   "outputs": [],
   "source": [
    "# Main function to bring everything together\n",
    "def full(titles, percent=0.8,levels=1):\n",
    "    features = [len(titles)]\n",
    "    counter = 0 \n",
    "    titles_stripped = titles\n",
    "    while counter < levels:\n",
    "        df, fig = correlation_matrix(titles_stripped)\n",
    "        titles_stripped = group_similar(df,percent)\n",
    "        features.append(len(titles_stripped))\n",
    "        counter += 1\n",
    "        pprint(titles_stripped)\n",
    "    return titles_stripped, features, fig\n"
   ]
  },
  {
   "cell_type": "code",
   "execution_count": 28,
   "id": "right-rabbit",
   "metadata": {},
   "outputs": [
    {
     "name": "stdout",
     "output_type": "stream",
     "text": [
      "Similarity: 10%\n",
      "['', 'v', 'k', 't']\n",
      "[9, 4]\n",
      "\n",
      "Similarity: 20%\n",
      "['', 'bt', 'v', 'k', 'sky']\n",
      "[9, 5]\n",
      "\n",
      "Similarity: 30%\n",
      "['', 'bt', 'vodaphone', 'k', 'virgin', 'talk', 'sky']\n",
      "[9, 7]\n",
      "\n",
      "Similarity: 40%\n",
      "['bt', 'vodaphone', 'virgin', 'talk', 'sky']\n",
      "[9, 5]\n",
      "\n",
      "Similarity: 50%\n",
      "['bt', 'vodaphone', 'virgin', 'talk', 'sky']\n",
      "[9, 5]\n",
      "\n",
      "Similarity: 60%\n",
      "['bt', 'vodaphone', 'virgin', 'talk', 'sky']\n",
      "[9, 5]\n",
      "\n",
      "Similarity: 70%\n",
      "['sky uk', 'bt', 'vodaphone', 'virgin', 'talk', 'sky', 'virgin media']\n",
      "[9, 7]\n",
      "\n",
      "Similarity: 80%\n",
      "['sky uk', 'bt', 'vodaphone', 'virgin', 'talk', 'sky', 'virgin media']\n",
      "[9, 7]\n",
      "\n",
      "Similarity: 90%\n",
      "['sky uk',\n",
      " 'vodaphone uk',\n",
      " 'bt',\n",
      " 'vodaphone',\n",
      " 'virgin',\n",
      " 'talk',\n",
      " 'sky',\n",
      " 'virgin media']\n",
      "[9, 8]\n",
      "\n"
     ]
    },
    {
     "data": {
      "image/png": "[encoded data removed]"
     },
     "metadata": {},
     "output_type": "display_data"
    }
   ],
   "source": [
    "# Test different similarities\n",
    "for i in range(1,10):\n",
    "    print('Similarity: {}%'.format(i * 10))\n",
    "    titles_stripped, features, fig = full(titles, 0.1 * i, 1)\n",
    "    print(features)\n",
    "    print()\n",
    "fig.show(\"png\")\n",
    "#fig.write_html(\"path/to/file.html\")"
   ]
  },
  {
   "cell_type": "code",
   "execution_count": 29,
   "id": "female-edward",
   "metadata": {},
   "outputs": [
    {
     "name": "stdout",
     "output_type": "stream",
     "text": [
      "['bt', 'vodaphone', 'virgin', 'talk', 'sky']\n",
      "[9, 5]\n"
     ]
    },
    {
     "data": {
      "image/png": "[encoded data removed]"
     },
     "metadata": {},
     "output_type": "display_data"
    }
   ],
   "source": [
    "# 40% and 50% similarity gave the same features I'd wish to group by in this case\n",
    "titles_stripped, features, fig = full(titles, 0.5, 1)\n",
    "print(features)\n",
    "fig.show(\"png\")"
   ]
  },
  {
   "cell_type": "code",
   "execution_count": 30,
   "id": "dutch-proposition",
   "metadata": {},
   "outputs": [
    {
     "data": {
      "text/html": [
       "<div>\n",
       "<style scoped>\n",
       "    .dataframe tbody tr th:only-of-type {\n",
       "        vertical-align: middle;\n",
       "    }\n",
       "\n",
       "    .dataframe tbody tr th {\n",
       "        vertical-align: top;\n",
       "    }\n",
       "\n",
       "    .dataframe thead th {\n",
       "        text-align: right;\n",
       "    }\n",
       "</style>\n",
       "<table border=\"1\" class=\"dataframe\">\n",
       "  <thead>\n",
       "    <tr style=\"text-align: right;\">\n",
       "      <th></th>\n",
       "      <th>broadband</th>\n",
       "      <th>ratings</th>\n",
       "      <th>years</th>\n",
       "      <th>month_cost</th>\n",
       "      <th>broadband_stripped</th>\n",
       "    </tr>\n",
       "  </thead>\n",
       "  <tbody>\n",
       "    <tr>\n",
       "      <th>0</th>\n",
       "      <td>bt</td>\n",
       "      <td>5.0</td>\n",
       "      <td>3</td>\n",
       "      <td>30</td>\n",
       "      <td>bt</td>\n",
       "    </tr>\n",
       "    <tr>\n",
       "      <th>1</th>\n",
       "      <td>sky</td>\n",
       "      <td>4.0</td>\n",
       "      <td>2</td>\n",
       "      <td>35</td>\n",
       "      <td>sky</td>\n",
       "    </tr>\n",
       "    <tr>\n",
       "      <th>2</th>\n",
       "      <td>sky uk</td>\n",
       "      <td>3.0</td>\n",
       "      <td>3</td>\n",
       "      <td>25</td>\n",
       "      <td>sky</td>\n",
       "    </tr>\n",
       "    <tr>\n",
       "      <th>3</th>\n",
       "      <td>sky uk ltd</td>\n",
       "      <td>2.0</td>\n",
       "      <td>2</td>\n",
       "      <td>33</td>\n",
       "      <td>sky</td>\n",
       "    </tr>\n",
       "    <tr>\n",
       "      <th>4</th>\n",
       "      <td>sky uk limited</td>\n",
       "      <td>1.0</td>\n",
       "      <td>5</td>\n",
       "      <td>21</td>\n",
       "      <td>sky</td>\n",
       "    </tr>\n",
       "    <tr>\n",
       "      <th>5</th>\n",
       "      <td>virgin</td>\n",
       "      <td>1.0</td>\n",
       "      <td>5</td>\n",
       "      <td>32</td>\n",
       "      <td>virgin</td>\n",
       "    </tr>\n",
       "    <tr>\n",
       "      <th>6</th>\n",
       "      <td>virgin media</td>\n",
       "      <td>3.0</td>\n",
       "      <td>4</td>\n",
       "      <td>31</td>\n",
       "      <td>virgin</td>\n",
       "    </tr>\n",
       "    <tr>\n",
       "      <th>7</th>\n",
       "      <td>vodaphone</td>\n",
       "      <td>3.0</td>\n",
       "      <td>3</td>\n",
       "      <td>27</td>\n",
       "      <td>vodaphone</td>\n",
       "    </tr>\n",
       "    <tr>\n",
       "      <th>8</th>\n",
       "      <td>vodaphone uk</td>\n",
       "      <td>4.0</td>\n",
       "      <td>5</td>\n",
       "      <td>33</td>\n",
       "      <td>vodaphone</td>\n",
       "    </tr>\n",
       "    <tr>\n",
       "      <th>9</th>\n",
       "      <td>talk talk</td>\n",
       "      <td>5.0</td>\n",
       "      <td>5</td>\n",
       "      <td>22</td>\n",
       "      <td>talk</td>\n",
       "    </tr>\n",
       "  </tbody>\n",
       "</table>\n",
       "</div>"
      ],
      "text/plain": [
       "        broadband  ratings  years  month_cost broadband_stripped\n",
       "0              bt      5.0      3          30                 bt\n",
       "1             sky      4.0      2          35                sky\n",
       "2          sky uk      3.0      3          25                sky\n",
       "3      sky uk ltd      2.0      2          33                sky\n",
       "4  sky uk limited      1.0      5          21                sky\n",
       "5          virgin      1.0      5          32             virgin\n",
       "6    virgin media      3.0      4          31             virgin\n",
       "7       vodaphone      3.0      3          27          vodaphone\n",
       "8    vodaphone uk      4.0      5          33          vodaphone\n",
       "9       talk talk      5.0      5          22               talk"
      ]
     },
     "execution_count": 30,
     "metadata": {},
     "output_type": "execute_result"
    }
   ],
   "source": [
    "# Substitute the stripped down titles into the DataFrame.\n",
    "list_1 = []\n",
    "for i in df_broadband['broadband']:\n",
    "    list_2 = []\n",
    "    for j in titles_stripped:\n",
    "        if j in i:\n",
    "            list_2.append(j)\n",
    "        else:\n",
    "            pass\n",
    "    if list_2:\n",
    "        list_1.append(list_2[0])\n",
    "    else:\n",
    "        list_1.append(i)\n",
    "df_broadband['broadband_stripped'] = list_1\n",
    "df_broadband.head(10)"
   ]
  },
  {
   "cell_type": "code",
   "execution_count": 31,
   "id": "exciting-march",
   "metadata": {},
   "outputs": [],
   "source": [
    "# Aggregate the DataFrame for data analysis\n",
    "df_means = df_broadband.groupby('broadband_stripped').mean()\n",
    "df_means.reset_index(inplace=True)"
   ]
  },
  {
   "cell_type": "code",
   "execution_count": 33,
   "id": "eight-marketplace",
   "metadata": {},
   "outputs": [
    {
     "data": {
      "image/png": "[encoded data removed]"
     },
     "metadata": {},
     "output_type": "display_data"
    }
   ],
   "source": [
    "# Averages plots per provider\n",
    "fig = px.bar(df_means,x='broadband_stripped',y=['ratings','years','month_cost'], barmode='group')\n",
    "fig.show(\"png\")"
   ]
  },
  {
   "cell_type": "code",
   "execution_count": null,
   "id": "prescription-booking",
   "metadata": {},
   "outputs": [],
   "source": []
  }
 ],
 "metadata": {
  "kernelspec": {
   "display_name": "Python 3",
   "language": "python",
   "name": "python3"
  },
  "language_info": {
   "codemirror_mode": {
    "name": "ipython",
    "version": 3
   },
   "file_extension": ".py",
   "mimetype": "text/x-python",
   "name": "python",
   "nbconvert_exporter": "python",
   "pygments_lexer": "ipython3",
   "version": "3.9.10"
  }
 },
 "nbformat": 4,
 "nbformat_minor": 5
}
